{
 "cells": [
  {
   "cell_type": "code",
   "execution_count": 1,
   "id": "bd59d03f",
   "metadata": {},
   "outputs": [],
   "source": [
    "import pandas as pd\n",
    "import numpy as np\n",
    "import matplotlib.pyplot as plt\n",
    "import seaborn as sns\n",
    "import torch  \n",
    "import torch.nn as nn\n",
    "import torch.optim as optim"
   ]
  },
  {
   "cell_type": "markdown",
   "id": "f20a3378",
   "metadata": {},
   "source": [
    "#### Part 1"
   ]
  },
  {
   "cell_type": "markdown",
   "id": "28f6927c",
   "metadata": {},
   "source": [
    "* Simple linear regression: $h_{\\theta}(x) = \\theta_{0} + X\\theta_{p}$"
   ]
  },
  {
   "cell_type": "code",
   "execution_count": 2,
   "id": "069c9625",
   "metadata": {},
   "outputs": [
    {
     "data": {
      "text/html": [
       "<div>\n",
       "<style scoped>\n",
       "    .dataframe tbody tr th:only-of-type {\n",
       "        vertical-align: middle;\n",
       "    }\n",
       "\n",
       "    .dataframe tbody tr th {\n",
       "        vertical-align: top;\n",
       "    }\n",
       "\n",
       "    .dataframe thead th {\n",
       "        text-align: right;\n",
       "    }\n",
       "</style>\n",
       "<table border=\"1\" class=\"dataframe\">\n",
       "  <thead>\n",
       "    <tr style=\"text-align: right;\">\n",
       "      <th></th>\n",
       "      <th>X1</th>\n",
       "      <th>X2</th>\n",
       "      <th>X3</th>\n",
       "      <th>y_linear</th>\n",
       "      <th>y_non_linear</th>\n",
       "    </tr>\n",
       "  </thead>\n",
       "  <tbody>\n",
       "    <tr>\n",
       "      <th>0</th>\n",
       "      <td>0.496714</td>\n",
       "      <td>0.357787</td>\n",
       "      <td>-1.594428</td>\n",
       "      <td>-3.142296</td>\n",
       "      <td>6.108660</td>\n",
       "    </tr>\n",
       "    <tr>\n",
       "      <th>1</th>\n",
       "      <td>-0.138264</td>\n",
       "      <td>0.560785</td>\n",
       "      <td>-0.599375</td>\n",
       "      <td>-3.626736</td>\n",
       "      <td>3.532030</td>\n",
       "    </tr>\n",
       "    <tr>\n",
       "      <th>2</th>\n",
       "      <td>0.647689</td>\n",
       "      <td>1.083051</td>\n",
       "      <td>0.005244</td>\n",
       "      <td>1.421507</td>\n",
       "      <td>4.196354</td>\n",
       "    </tr>\n",
       "    <tr>\n",
       "      <th>3</th>\n",
       "      <td>1.523030</td>\n",
       "      <td>1.053802</td>\n",
       "      <td>0.046981</td>\n",
       "      <td>4.250352</td>\n",
       "      <td>2.891873</td>\n",
       "    </tr>\n",
       "    <tr>\n",
       "      <th>4</th>\n",
       "      <td>-0.234153</td>\n",
       "      <td>-1.377669</td>\n",
       "      <td>-0.450065</td>\n",
       "      <td>-0.144476</td>\n",
       "      <td>6.146037</td>\n",
       "    </tr>\n",
       "  </tbody>\n",
       "</table>\n",
       "</div>"
      ],
      "text/plain": [
       "         X1        X2        X3  y_linear  y_non_linear\n",
       "0  0.496714  0.357787 -1.594428 -3.142296      6.108660\n",
       "1 -0.138264  0.560785 -0.599375 -3.626736      3.532030\n",
       "2  0.647689  1.083051  0.005244  1.421507      4.196354\n",
       "3  1.523030  1.053802  0.046981  4.250352      2.891873\n",
       "4 -0.234153 -1.377669 -0.450065 -0.144476      6.146037"
      ]
     },
     "execution_count": 2,
     "metadata": {},
     "output_type": "execute_result"
    }
   ],
   "source": [
    "df_lin = pd.read_csv(r'C:\\Programming for DS Y3-S2\\TP-Programming\\simulated_regression.csv')\n",
    "df_lin.head(5)"
   ]
  },
  {
   "cell_type": "code",
   "execution_count": null,
   "id": "7ad9e4f0",
   "metadata": {},
   "outputs": [],
   "source": []
  },
  {
   "cell_type": "code",
   "execution_count": null,
   "id": "b12b554c",
   "metadata": {},
   "outputs": [],
   "source": []
  },
  {
   "cell_type": "markdown",
   "id": "5f683cbc",
   "metadata": {},
   "source": [
    "### Part2"
   ]
  },
  {
   "cell_type": "markdown",
   "id": "26a0dd37",
   "metadata": {},
   "source": [
    "* hypothesis: $h_{\\theta}(x) = \\theta_{0} + x\\theta_{1} + \\theta_{2}\\sqrt{|X|}+\\theta_3X_3^2$"
   ]
  },
  {
   "cell_type": "code",
   "execution_count": null,
   "id": "e30d98b3",
   "metadata": {},
   "outputs": [],
   "source": []
  },
  {
   "cell_type": "code",
   "execution_count": null,
   "id": "6bdf09de",
   "metadata": {},
   "outputs": [],
   "source": []
  },
  {
   "cell_type": "code",
   "execution_count": null,
   "id": "94ed0e6c",
   "metadata": {},
   "outputs": [],
   "source": []
  },
  {
   "cell_type": "code",
   "execution_count": null,
   "id": "d748b337",
   "metadata": {},
   "outputs": [],
   "source": []
  },
  {
   "cell_type": "markdown",
   "id": "080e07af",
   "metadata": {},
   "source": [
    "### Part 3:"
   ]
  },
  {
   "cell_type": "code",
   "execution_count": null,
   "id": "53b95588",
   "metadata": {},
   "outputs": [],
   "source": []
  },
  {
   "cell_type": "code",
   "execution_count": null,
   "id": "3c061c1b",
   "metadata": {},
   "outputs": [],
   "source": []
  },
  {
   "cell_type": "code",
   "execution_count": null,
   "id": "d21e952b",
   "metadata": {},
   "outputs": [],
   "source": []
  }
 ],
 "metadata": {
  "kernelspec": {
   "display_name": "Python 3",
   "language": "python",
   "name": "python3"
  },
  "language_info": {
   "codemirror_mode": {
    "name": "ipython",
    "version": 3
   },
   "file_extension": ".py",
   "mimetype": "text/x-python",
   "name": "python",
   "nbconvert_exporter": "python",
   "pygments_lexer": "ipython3",
   "version": "3.12.7"
  }
 },
 "nbformat": 4,
 "nbformat_minor": 5
}
