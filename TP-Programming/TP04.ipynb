{
 "cells": [
  {
   "cell_type": "markdown",
   "metadata": {},
   "source": [
    "# Class and object"
   ]
  },
  {
   "cell_type": "code",
   "execution_count": 1,
   "metadata": {},
   "outputs": [
    {
     "name": "stdout",
     "output_type": "stream",
     "text": [
      "Item Details:\n",
      "Product Name:Laptop, Stock Count:100, Price:500.0\n",
      "Product Name:Mobile, Stock Count:110, Price:450.0\n",
      "Product Name:Desktop, Stock Count:120, Price:500.0\n",
      "Product Name:Tablet, Stock Count:90, Price:550.0\n",
      "Update the price of item code: 'I001'. \n",
      "Item Details:\n",
      "Product Name:Laptop, Stock Count:100, Price:505.0\n",
      "Update the stock of item code: 'I003'. \n",
      "Item Details:\n",
      "Product Name:Desktop, Stock Count:115, Price:500.0\n"
     ]
    }
   ],
   "source": [
    "class Inventory():\n",
    "    def __init__(self):\n",
    "        self.inventory = {}\n",
    "    def add_item(self,item_id,item_name,stock_count,price):\n",
    "        self.inventory[item_id] = {\n",
    "            \"item_name\":item_name,\n",
    "            'stock_count':stock_count,\n",
    "            'price':price\n",
    "        }\n",
    "    def update_item(self,item_id,sotck_count,price):\n",
    "        if item_id in self.inventory:\n",
    "            self.inventory[item_id]['stock_count'] = sotck_count\n",
    "            self.inventory[item_id]['price'] = price\n",
    "        else:\n",
    "            print('Item not found in inventory.')\n",
    "    def check_item_details(self,item_id):\n",
    "        if item_id in self.inventory:\n",
    "            return f\"Product Name:{self.inventory[item_id]['item_name']}, Stock Count:{self.inventory[item_id]['stock_count']}, Price:{self.inventory[item_id]['price']}\"\n",
    "        else:\n",
    "            return \"Item not found in inventory.\"\n",
    "        \n",
    "\n",
    "inventory = Inventory()\n",
    "inventory.add_item('I001','Laptop',100,500.00)\n",
    "inventory.add_item('I002','Mobile',110,450.00)\n",
    "inventory.add_item('I003','Desktop',120,500.00)\n",
    "inventory.add_item('I004','Tablet',90,550.00)\n",
    "print(\"Item Details:\")\n",
    "print(inventory.check_item_details('I001'))\n",
    "print(inventory.check_item_details('I002'))\n",
    "print(inventory.check_item_details('I003'))\n",
    "print(inventory.check_item_details('I004'))\n",
    "print(\"Update the price of item code: 'I001'. \")\n",
    "inventory.update_item('I001',100,505.00)\n",
    "print(\"Item Details:\")\n",
    "print(inventory.check_item_details('I001'))\n",
    "print(\"Update the stock of item code: 'I003'. \")\n",
    "inventory.update_item(\"I003\", 115, 500.00)\n",
    "print(\"Item Details:\")\n",
    "print(inventory.check_item_details('I003'))"
   ]
  },
  {
   "cell_type": "code",
   "execution_count": 2,
   "metadata": {},
   "outputs": [],
   "source": [
    "class Employee():\n",
    "    def __init__(self,emp_name, emp_id, emp_salary, emp_department):\n",
    "        self.emp_id = emp_id\n",
    "        self.emp_name = emp_name\n",
    "        self.emp_salary = emp_salary\n",
    "        self.emp_department = emp_department\n",
    "    def calculate_emp_salry(self,salary,working_hour):\n",
    "        if working_hour > 50:\n",
    "            overtime = working_hour-50\n",
    "            overtime_pay = overtime*(salary/50)\n",
    "        else:\n",
    "            return \"No overtime pay.\"\n",
    "    def emp_assign_department(self,new_department):\n",
    "        self.emp_department = new_department\n",
    "    def display_emp_details(self):\n",
    "        # list.append({\"Employee ID\":self.emp_id,\"Employee Name\":self.emp_name,\"Employee Salary\":self.emp_salary,\"Employee Department\":self.emp_department})\n",
    "        return f\"Employee ID:{self.emp_id}, Employee Name:{self.emp_name}, Employee Salary:{self.emp_salary}, Employee Department:{self.emp_department}\" \n"
   ]
  },
  {
   "cell_type": "code",
   "execution_count": 3,
   "metadata": {},
   "outputs": [
    {
     "name": "stdout",
     "output_type": "stream",
     "text": [
      "Employee Details:\n"
     ]
    },
    {
     "data": {
      "text/plain": [
       "['Employee ID:E7876, Employee Name:ADAMS, Employee Salary:50000, Employee Department:ACCOUNTING',\n",
       " 'Employee ID:E7499, Employee Name:JONES, Employee Salary:45000, Employee Department:RESEARCH',\n",
       " 'Employee ID:E7900, Employee Name:MARTIN, Employee Salary:50000, Employee Department:SALES',\n",
       " 'Employee ID:E7698, Employee Name:SMITH, Employee Salary:55000, Employee Department:OPERATIONS']"
      ]
     },
     "execution_count": 3,
     "metadata": {},
     "output_type": "execute_result"
    }
   ],
   "source": [
    "E1 = Employee(\"ADAMS\", \"E7876\", 50000, \"ACCOUNTING\")\n",
    "E2 =Employee(\"JONES\", \"E7499\", 45000, \"RESEARCH\")\n",
    "E3 = Employee(\"MARTIN\", \"E7900\", 50000, \"SALES\")\n",
    "E4 = Employee(\"SMITH\", \"E7698\", 55000, \"OPERATIONS\")\n",
    "my_list = []\n",
    "my_list.append(E1.display_emp_details())    \n",
    "my_list.append(E2.display_emp_details())    \n",
    "my_list.append(E3.display_emp_details())    \n",
    "my_list.append(E4.display_emp_details())    \n",
    "print(\"Employee Details:\")\n",
    "# print(my_list)\n",
    "my_list\n",
    "# print(\"Assign new department to employee E1,E2 .\")\n",
    "# E1.emp_assign_department(\"SALES\")\n",
    "# E2.emp_assign_department(\"OPERATIONS\")\n",
    "# print(\"Employee Details:\")\n"
   ]
  },
  {
   "cell_type": "markdown",
   "metadata": {},
   "source": [
    "# Homework\n"
   ]
  },
  {
   "cell_type": "code",
   "execution_count": 4,
   "metadata": {},
   "outputs": [],
   "source": [
    "# ex3:\n",
    "\n",
    "class Queue():\n",
    "    def __init__(self):\n",
    "        self.queue = []\n",
    "    def insert(self,element):\n",
    "        self.queue.append(element)\n",
    "    def remove(self):\n",
    "        if len(self.queue) > 0:\n",
    "            return self.queue.pop(0) #The pop() method is used to remove and return an element from a list, set, or dictionary.\n",
    "        else:\n",
    "            return \"Queue is empty.\"\n",
    "    def display_queue(self):\n",
    "        return self.queue"
   ]
  },
  {
   "cell_type": "code",
   "execution_count": 5,
   "metadata": {},
   "outputs": [
    {
     "data": {
      "text/plain": [
       "5"
      ]
     },
     "execution_count": 5,
     "metadata": {},
     "output_type": "execute_result"
    }
   ],
   "source": [
    "queue = Queue()\n",
    "queue.insert(5)\n",
    "queue.insert(6)\n",
    "queue.remove()\n"
   ]
  },
  {
   "cell_type": "code",
   "execution_count": 6,
   "metadata": {},
   "outputs": [
    {
     "data": {
      "text/plain": [
       "6"
      ]
     },
     "execution_count": 6,
     "metadata": {},
     "output_type": "execute_result"
    }
   ],
   "source": [
    "queue.insert(7)\n",
    "queue.remove()\n"
   ]
  },
  {
   "cell_type": "code",
   "execution_count": 7,
   "metadata": {},
   "outputs": [
    {
     "data": {
      "text/plain": [
       "7"
      ]
     },
     "execution_count": 7,
     "metadata": {},
     "output_type": "execute_result"
    }
   ],
   "source": [
    "queue.remove()\n"
   ]
  },
  {
   "cell_type": "code",
   "execution_count": 8,
   "metadata": {},
   "outputs": [
    {
     "data": {
      "text/plain": [
       "'Queue is empty.'"
      ]
     },
     "execution_count": 8,
     "metadata": {},
     "output_type": "execute_result"
    }
   ],
   "source": [
    "queue.remove()"
   ]
  }
 ],
 "metadata": {
  "kernelspec": {
   "display_name": "Python 3",
   "language": "python",
   "name": "python3"
  },
  "language_info": {
   "codemirror_mode": {
    "name": "ipython",
    "version": 3
   },
   "file_extension": ".py",
   "mimetype": "text/x-python",
   "name": "python",
   "nbconvert_exporter": "python",
   "pygments_lexer": "ipython3",
   "version": "3.12.7"
  }
 },
 "nbformat": 4,
 "nbformat_minor": 2
}
