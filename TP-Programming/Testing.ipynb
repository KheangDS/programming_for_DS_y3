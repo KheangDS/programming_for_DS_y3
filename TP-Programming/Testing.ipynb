{
 "cells": [
  {
   "cell_type": "markdown",
   "metadata": {},
   "source": [
    "## Add contact"
   ]
  },
  {
   "cell_type": "code",
   "execution_count": 1,
   "metadata": {},
   "outputs": [
    {
     "name": "stdout",
     "output_type": "stream",
     "text": [
      "Collecting telethon\n",
      "  Downloading Telethon-1.40.0-py3-none-any.whl.metadata (3.9 kB)\n",
      "Collecting pyaes (from telethon)\n",
      "  Downloading pyaes-1.6.1.tar.gz (28 kB)\n",
      "  Preparing metadata (setup.py): started\n",
      "  Preparing metadata (setup.py): finished with status 'done'\n",
      "Collecting rsa (from telethon)\n",
      "  Downloading rsa-4.9.1-py3-none-any.whl.metadata (5.6 kB)\n",
      "Collecting pyasn1>=0.1.3 (from rsa->telethon)\n",
      "  Using cached pyasn1-0.6.1-py3-none-any.whl.metadata (8.4 kB)\n",
      "Downloading Telethon-1.40.0-py3-none-any.whl (722 kB)\n",
      "   ---------------------------------------- 0.0/722.0 kB ? eta -:--:--\n",
      "   -------------- ------------------------- 262.1/722.0 kB ? eta -:--:--\n",
      "   ---------------------------------------- 722.0/722.0 kB 2.4 MB/s eta 0:00:00\n",
      "Downloading rsa-4.9.1-py3-none-any.whl (34 kB)\n",
      "Using cached pyasn1-0.6.1-py3-none-any.whl (83 kB)\n",
      "Building wheels for collected packages: pyaes\n",
      "  Building wheel for pyaes (setup.py): started\n",
      "  Building wheel for pyaes (setup.py): finished with status 'done'\n",
      "  Created wheel for pyaes: filename=pyaes-1.6.1-py3-none-any.whl size=26359 sha256=9107fde19a26efe2964f41c873b5a461f2e8757c7b32822bbaf9151b6ab97acb\n",
      "  Stored in directory: c:\\users\\hp\\appdata\\local\\pip\\cache\\wheels\\d9\\43\\32\\ec313dd557e88e419489b9df40c04dad7b99576bde162496f8\n",
      "Successfully built pyaes\n",
      "Installing collected packages: pyaes, pyasn1, rsa, telethon\n",
      "Successfully installed pyaes-1.6.1 pyasn1-0.6.1 rsa-4.9.1 telethon-1.40.0\n"
     ]
    }
   ],
   "source": [
    "! pip install telethon\n"
   ]
  },
  {
   "cell_type": "code",
   "execution_count": null,
   "metadata": {},
   "outputs": [],
   "source": [
    "from telethon.sync import TelegramClient\n",
    "from telethon.tl.functions.contacts import ImportContactsRequest\n",
    "from telethon.tl.types import InputPhoneContact\n",
    "\n",
    "# Define your API credentials (use the ones you obtained from Telegram)\n",
    "api_id = '28446287'  # Replace with your API ID\n",
    "api_hash = '337cdd698867933cd2ee0930675bea52'  # Replace with your API Hash\n",
    "phone_number = '+85516474815'  # Replace with your phone number\n",
    "\n",
    "# Create a session and connect to Telegram\n",
    "client = TelegramClient('kheang_Tele_Add_1', api_id, api_hash)\n",
    "\n",
    "async def add_members_to_group():\n",
    "    await client.start(phone_number)\n",
    "    \n",
    "    # List of phone numbers to add to the group (replace with your own list)\n",
    "    phone_numbers = ['+855976128280', '+85510948555','+855766432722']  # Example phone numbers\n",
    "    \n",
    "    first_names = ['សេង', 'Srean', 'MENG']\n",
    "    last_names = ['គុយស្រ៊ាន់', 'pich ', 'LY NIKA ']\n",
    "\n",
    "    # Create the contact list with actual names\n",
    "    contacts = [\n",
    "        InputPhoneContact(phone_number=num, first_name=first_names[i], last_name=last_names[i]) \n",
    "        for i, num in enumerate(phone_numbers)\n",
    "    ]\n",
    "    \n",
    "    # Import the contacts\n",
    "    imported_contacts = await client(ImportContactsRequest(contacts))\n",
    "    \n",
    "    # Get the group you want to add people to (replace with your group username or ID)\n",
    "    group = await client.get_entity('@mygroup')  # Replace with your group username or group ID\n",
    "    \n",
    "    # Add users to the group\n",
    "    for user in imported_contacts.users:\n",
    "        try:\n",
    "            await client.add_participant(group, user)\n",
    "            print(f'Added {user.username} to the group!')\n",
    "        except Exception as e:\n",
    "            print(f'Error adding {user.username}: {e}')\n",
    "\n",
    "# Run the function\n",
    "with client:\n",
    "    client.loop.run_until_complete(add_members_to_group())\n"
   ]
  },
  {
   "cell_type": "code",
   "execution_count": 11,
   "metadata": {},
   "outputs": [
    {
     "name": "stderr",
     "output_type": "stream",
     "text": [
      "Invalid code. Please try again.\n",
      "Invalid code. Please try again.\n",
      "Invalid code. Please try again.\n"
     ]
    },
    {
     "ename": "RuntimeError",
     "evalue": "3 consecutive sign-in attempts failed. Aborting",
     "output_type": "error",
     "traceback": [
      "\u001b[1;31m---------------------------------------------------------------------------\u001b[0m",
      "\u001b[1;31mRuntimeError\u001b[0m                              Traceback (most recent call last)",
      "Cell \u001b[1;32mIn[11], line 44\u001b[0m\n\u001b[0;32m     41\u001b[0m             \u001b[38;5;28mprint\u001b[39m(\u001b[38;5;124mf\u001b[39m\u001b[38;5;124m'\u001b[39m\u001b[38;5;124mError adding \u001b[39m\u001b[38;5;132;01m{\u001b[39;00muser\u001b[38;5;241m.\u001b[39musername\u001b[38;5;132;01m}\u001b[39;00m\u001b[38;5;124m: \u001b[39m\u001b[38;5;132;01m{\u001b[39;00me\u001b[38;5;132;01m}\u001b[39;00m\u001b[38;5;124m'\u001b[39m)\n\u001b[0;32m     43\u001b[0m \u001b[38;5;66;03m# Run the function\u001b[39;00m\n\u001b[1;32m---> 44\u001b[0m \u001b[38;5;28;01masync\u001b[39;00m \u001b[38;5;28;01mwith\u001b[39;00m client:\n\u001b[0;32m     45\u001b[0m     client\u001b[38;5;241m.\u001b[39mloop\u001b[38;5;241m.\u001b[39mrun_until_complete(add_members_to_group())\n",
      "File \u001b[1;32mc:\\Users\\hp\\AppData\\Local\\Programs\\Python\\Python312\\Lib\\site-packages\\telethon\\client\\auth.py:669\u001b[0m, in \u001b[0;36mAuthMethods.__aenter__\u001b[1;34m(self)\u001b[0m\n\u001b[0;32m    668\u001b[0m \u001b[38;5;28;01masync\u001b[39;00m \u001b[38;5;28;01mdef\u001b[39;00m \u001b[38;5;21m__aenter__\u001b[39m(\u001b[38;5;28mself\u001b[39m):\n\u001b[1;32m--> 669\u001b[0m     \u001b[38;5;28;01mreturn\u001b[39;00m \u001b[38;5;28;01mawait\u001b[39;00m \u001b[38;5;28mself\u001b[39m\u001b[38;5;241m.\u001b[39mstart()\n",
      "File \u001b[1;32mc:\\Users\\hp\\AppData\\Local\\Programs\\Python\\Python312\\Lib\\site-packages\\telethon\\client\\auth.py:213\u001b[0m, in \u001b[0;36mAuthMethods._start\u001b[1;34m(self, phone, password, bot_token, force_sms, code_callback, first_name, last_name, max_attempts)\u001b[0m\n\u001b[0;32m    211\u001b[0m     attempts \u001b[38;5;241m+\u001b[39m\u001b[38;5;241m=\u001b[39m \u001b[38;5;241m1\u001b[39m\n\u001b[0;32m    212\u001b[0m \u001b[38;5;28;01melse\u001b[39;00m:\n\u001b[1;32m--> 213\u001b[0m     \u001b[38;5;28;01mraise\u001b[39;00m \u001b[38;5;167;01mRuntimeError\u001b[39;00m(\n\u001b[0;32m    214\u001b[0m         \u001b[38;5;124m'\u001b[39m\u001b[38;5;132;01m{}\u001b[39;00m\u001b[38;5;124m consecutive sign-in attempts failed. Aborting\u001b[39m\u001b[38;5;124m'\u001b[39m\n\u001b[0;32m    215\u001b[0m         \u001b[38;5;241m.\u001b[39mformat(max_attempts)\n\u001b[0;32m    216\u001b[0m     )\n\u001b[0;32m    218\u001b[0m \u001b[38;5;28;01mif\u001b[39;00m two_step_detected:\n\u001b[0;32m    219\u001b[0m     \u001b[38;5;28;01mif\u001b[39;00m \u001b[38;5;129;01mnot\u001b[39;00m password:\n",
      "\u001b[1;31mRuntimeError\u001b[0m: 3 consecutive sign-in attempts failed. Aborting"
     ]
    },
    {
     "name": "stderr",
     "output_type": "stream",
     "text": [
      "Server closed the connection: [WinError 10054] An existing connection was forcibly closed by the remote host\n",
      "Attempt 1 at connecting failed: OSError: [Errno 10051] Connect call failed ('91.108.56.123', 443)\n",
      "Attempt 2 at connecting failed: OSError: [Errno 10051] Connect call failed ('91.108.56.123', 443)\n",
      "Attempt 3 at connecting failed: OSError: [Errno 10051] Connect call failed ('91.108.56.123', 443)\n",
      "Attempt 4 at connecting failed: OSError: [Errno 10051] Connect call failed ('91.108.56.123', 443)\n"
     ]
    }
   ],
   "source": [
    "from telethon.sync import TelegramClient\n",
    "from telethon.tl.functions.contacts import ImportContactsRequest\n",
    "from telethon.tl.types import InputPhoneContact\n",
    "from telethon.tl.functions.messages import ImportChatInviteRequest\n",
    "\n",
    "# Your API credentials\n",
    "api_id = '28446287'  \n",
    "api_hash = '337cdd698867933cd2ee0930675bea52'  \n",
    "phone_number = '+85516474815'\n",
    "\n",
    "# Create a session and connect to Telegram\n",
    "client = TelegramClient('kheang_Tele_Add_1', api_id, api_hash)\n",
    "\n",
    "async def add_members_to_group():\n",
    "    await client.start(phone_number)\n",
    "    \n",
    "    # List of phone numbers to add to the group\n",
    "    phone_numbers = ['+855976128280', '+85510948555','+855766432722']  # Example phone numbers\n",
    "    \n",
    "    first_names = ['សេង', 'Srean', 'MENG']\n",
    "    last_names = ['គុយស្រ៊ាន់', 'pich ', 'LY NIKA ']\n",
    "\n",
    "    # Create the contact list with actual names\n",
    "    contacts = [\n",
    "        InputPhoneContact(phone_number=num, first_name=first_names[i], last_name=last_names[i]) \n",
    "        for i, num in enumerate(phone_numbers)\n",
    "    ]\n",
    "    # Import the contacts into your account\n",
    "    imported_contacts = await client(ImportContactsRequest(contacts))\n",
    "    \n",
    "    # Join the group using the invite link (replace with your actual group link)\n",
    "    group_link = 'https://t.me/+gHcsFVGo0yowMTM9'  # Your group invite link\n",
    "    group = await client(ImportChatInviteRequest(group_link.split('t.me/')[1]))  # Get group entity by link\n",
    "    \n",
    "    # Add users to the group\n",
    "    for user in imported_contacts.users:\n",
    "        try:\n",
    "            await client.add_participant(group, user)\n",
    "            print(f'Added {user.username} to the group!')\n",
    "        except Exception as e:\n",
    "            print(f'Error adding {user.username}: {e}')\n",
    "\n",
    "# Run the function\n",
    "async with client:\n",
    "    client.loop.run_until_complete(add_members_to_group())\n"
   ]
  },
  {
   "cell_type": "code",
   "execution_count": 4,
   "metadata": {},
   "outputs": [
    {
     "ename": "ValueError",
     "evalue": "Cannot find any entity corresponding to \"Water Sampling Training 2025_Batch 1\"",
     "output_type": "error",
     "traceback": [
      "\u001b[1;31m---------------------------------------------------------------------------\u001b[0m",
      "\u001b[1;31mValueError\u001b[0m                                Traceback (most recent call last)",
      "Cell \u001b[1;32mIn[4], line 11\u001b[0m\n\u001b[0;32m      9\u001b[0m \u001b[38;5;66;03m# Create a session and connect to Telegram\u001b[39;00m\n\u001b[0;32m     10\u001b[0m client \u001b[38;5;241m=\u001b[39m TelegramClient(\u001b[38;5;124m'\u001b[39m\u001b[38;5;124mkheang_Tele_Add_1\u001b[39m\u001b[38;5;124m'\u001b[39m, api_id, api_hash)\n\u001b[1;32m---> 11\u001b[0m group \u001b[38;5;241m=\u001b[39m \u001b[38;5;28;01mawait\u001b[39;00m client\u001b[38;5;241m.\u001b[39mget_entity(\u001b[38;5;124m'\u001b[39m\u001b[38;5;124mWater Sampling Training 2025_Batch 1\u001b[39m\u001b[38;5;124m'\u001b[39m)  \u001b[38;5;66;03m# Replace with the actual group name\u001b[39;00m\n\u001b[0;32m     12\u001b[0m \u001b[38;5;28mprint\u001b[39m(group\u001b[38;5;241m.\u001b[39mid)  \u001b[38;5;66;03m# This will print the group ID\u001b[39;00m\n",
      "File \u001b[1;32mc:\\Users\\hp\\AppData\\Local\\Programs\\Python\\Python312\\Lib\\site-packages\\telethon\\client\\users.py:343\u001b[0m, in \u001b[0;36mUserMethods.get_entity\u001b[1;34m(self, entity)\u001b[0m\n\u001b[0;32m    341\u001b[0m \u001b[38;5;28;01mfor\u001b[39;00m x \u001b[38;5;129;01min\u001b[39;00m inputs:\n\u001b[0;32m    342\u001b[0m     \u001b[38;5;28;01mif\u001b[39;00m \u001b[38;5;28misinstance\u001b[39m(x, \u001b[38;5;28mstr\u001b[39m):\n\u001b[1;32m--> 343\u001b[0m         result\u001b[38;5;241m.\u001b[39mappend(\u001b[38;5;28;01mawait\u001b[39;00m \u001b[38;5;28mself\u001b[39m\u001b[38;5;241m.\u001b[39m_get_entity_from_string(x))\n\u001b[0;32m    344\u001b[0m     \u001b[38;5;28;01melif\u001b[39;00m \u001b[38;5;129;01mnot\u001b[39;00m \u001b[38;5;28misinstance\u001b[39m(x, types\u001b[38;5;241m.\u001b[39mInputPeerSelf):\n\u001b[0;32m    345\u001b[0m         result\u001b[38;5;241m.\u001b[39mappend(id_entity[utils\u001b[38;5;241m.\u001b[39mget_peer_id(x, add_mark\u001b[38;5;241m=\u001b[39m\u001b[38;5;28;01mFalse\u001b[39;00m)])\n",
      "File \u001b[1;32mc:\\Users\\hp\\AppData\\Local\\Programs\\Python\\Python312\\Lib\\site-packages\\telethon\\client\\users.py:582\u001b[0m, in \u001b[0;36mUserMethods._get_entity_from_string\u001b[1;34m(self, string)\u001b[0m\n\u001b[0;32m    579\u001b[0m     \u001b[38;5;28;01mexcept\u001b[39;00m \u001b[38;5;167;01mValueError\u001b[39;00m:\n\u001b[0;32m    580\u001b[0m         \u001b[38;5;28;01mpass\u001b[39;00m\n\u001b[1;32m--> 582\u001b[0m \u001b[38;5;28;01mraise\u001b[39;00m \u001b[38;5;167;01mValueError\u001b[39;00m(\n\u001b[0;32m    583\u001b[0m     \u001b[38;5;124m'\u001b[39m\u001b[38;5;124mCannot find any entity corresponding to \u001b[39m\u001b[38;5;124m\"\u001b[39m\u001b[38;5;132;01m{}\u001b[39;00m\u001b[38;5;124m\"\u001b[39m\u001b[38;5;124m'\u001b[39m\u001b[38;5;241m.\u001b[39mformat(string)\n\u001b[0;32m    584\u001b[0m )\n",
      "\u001b[1;31mValueError\u001b[0m: Cannot find any entity corresponding to \"Water Sampling Training 2025_Batch 1\""
     ]
    }
   ],
   "source": [
    "from telethon.sync import TelegramClient\n",
    "from telethon.tl.functions.contacts import ImportContactsRequest\n",
    "from telethon.tl.types import InputPhoneContact\n",
    "# Define your API credentials (use the ones you obtained from Telegram)\n",
    "api_id = '28446287'  # Replace with your API ID\n",
    "api_hash = '337cdd698867933cd2ee0930675bea52'  # Replace with your API Hash\n",
    "phone_number = '+85516474815'  # Replace with your phone number\n",
    "\n",
    "# Create a session and connect to Telegram\n",
    "client = TelegramClient('kheang_Tele_Add_1', api_id, api_hash)\n",
    "group = await client.get_entity('Water Sampling Training 2025_Batch 1')  # Replace with the actual group name\n",
    "print(group.id)  # This will print the group ID\n"
   ]
  },
  {
   "cell_type": "code",
   "execution_count": null,
   "metadata": {},
   "outputs": [
    {
     "data": {
      "text/plain": [
       "['__abs__',\n",
       " '__add__',\n",
       " '__bool__',\n",
       " '__class__',\n",
       " '__complex__',\n",
       " '__delattr__',\n",
       " '__dir__',\n",
       " '__doc__',\n",
       " '__eq__',\n",
       " '__format__',\n",
       " '__ge__',\n",
       " '__getattribute__',\n",
       " '__getnewargs__',\n",
       " '__getstate__',\n",
       " '__gt__',\n",
       " '__hash__',\n",
       " '__init__',\n",
       " '__init_subclass__',\n",
       " '__le__',\n",
       " '__lt__',\n",
       " '__mul__',\n",
       " '__ne__',\n",
       " '__neg__',\n",
       " '__new__',\n",
       " '__pos__',\n",
       " '__pow__',\n",
       " '__radd__',\n",
       " '__reduce__',\n",
       " '__reduce_ex__',\n",
       " '__repr__',\n",
       " '__rmul__',\n",
       " '__rpow__',\n",
       " '__rsub__',\n",
       " '__rtruediv__',\n",
       " '__setattr__',\n",
       " '__sizeof__',\n",
       " '__str__',\n",
       " '__sub__',\n",
       " '__subclasshook__',\n",
       " '__truediv__',\n",
       " 'conjugate',\n",
       " 'imag',\n",
       " 'real']"
      ]
     },
     "execution_count": 1,
     "metadata": {},
     "output_type": "execute_result"
    }
   ],
   "source": [
    "dir(complex)   # dir is a function that used to print attributes of an objectz "
   ]
  },
  {
   "cell_type": "code",
   "execution_count": null,
   "metadata": {},
   "outputs": [
    {
     "ename": "KeyboardInterrupt",
     "evalue": "",
     "output_type": "error",
     "traceback": [
      "\u001b[1;31m---------------------------------------------------------------------------\u001b[0m",
      "\u001b[1;31mKeyboardInterrupt\u001b[0m                         Traceback (most recent call last)",
      "Cell \u001b[1;32mIn[1], line 15\u001b[0m\n\u001b[0;32m     12\u001b[0m out \u001b[38;5;241m=\u001b[39m cv2\u001b[38;5;241m.\u001b[39mVideoWriter(\u001b[38;5;124m'\u001b[39m\u001b[38;5;124moutput.mp4\u001b[39m\u001b[38;5;124m'\u001b[39m, fourcc, \u001b[38;5;241m20.0\u001b[39m, (frame_width, frame_height))\n\u001b[0;32m     14\u001b[0m \u001b[38;5;28;01mwhile\u001b[39;00m \u001b[38;5;28;01mTrue\u001b[39;00m:\n\u001b[1;32m---> 15\u001b[0m     ret, frame \u001b[38;5;241m=\u001b[39m \u001b[43mcam\u001b[49m\u001b[38;5;241;43m.\u001b[39;49m\u001b[43mread\u001b[49m\u001b[43m(\u001b[49m\u001b[43m)\u001b[49m\n\u001b[0;32m     17\u001b[0m     \u001b[38;5;66;03m# Write the frame to the output file\u001b[39;00m\n\u001b[0;32m     18\u001b[0m     out\u001b[38;5;241m.\u001b[39mwrite(frame)\n",
      "\u001b[1;31mKeyboardInterrupt\u001b[0m: "
     ]
    },
    {
     "ename": "",
     "evalue": "",
     "output_type": "error",
     "traceback": [
      "\u001b[1;31mThe Kernel crashed while executing code in the current cell or a previous cell. \n",
      "\u001b[1;31mPlease review the code in the cell(s) to identify a possible cause of the failure. \n",
      "\u001b[1;31mClick <a href='https://aka.ms/vscodeJupyterKernelCrash'>here</a> for more info. \n",
      "\u001b[1;31mView Jupyter <a href='command:jupyter.viewOutput'>log</a> for further details."
     ]
    }
   ],
   "source": [
    "import cv2\n",
    "\n",
    "# Open the default camera\n",
    "cam = cv2.VideoCapture(0)\n",
    "\n",
    "# Get the default frame width and height\n",
    "frame_width = int(cam.get(cv2.CAP_PROP_FRAME_WIDTH))\n",
    "frame_height = int(cam.get(cv2.CAP_PROP_FRAME_HEIGHT))\n",
    "\n",
    "# Define the codec and create VideoWriter object\n",
    "fourcc = cv2.VideoWriter_fourcc(*'mp4v')\n",
    "out = cv2.VideoWriter('output.mp4', fourcc, 20.0, (frame_width, frame_height))\n",
    "\n",
    "while True:\n",
    "    ret, frame = cam.read()\n",
    "\n",
    "    # Write the frame to the output file\n",
    "    out.write(frame)\n",
    "\n",
    "    # Display the captured frame\n",
    "    cv2.imshow('Camera', frame)\n",
    "\n",
    "    # Press 'q' to exit the loop\n",
    "    if cv2.waitKey(1) == ord('q'):\n",
    "        break\n",
    "\n",
    "# Release the capture and writer objects\n",
    "cam.release()\n",
    "out.release()\n",
    "cv2.destroyAllWindows()"
   ]
  },
  {
   "cell_type": "code",
   "execution_count": 3,
   "metadata": {},
   "outputs": [
    {
     "name": "stdout",
     "output_type": "stream",
     "text": [
      "(3+4j)\n",
      "3.0\n",
      "4.0\n",
      "(3-4j)\n"
     ]
    }
   ],
   "source": [
    "z = complex(3,4)\n",
    "print(z)\n",
    "print(z.real)\n",
    "print(z.imag)\n",
    "print(z.conjugate())"
   ]
  },
  {
   "cell_type": "code",
   "execution_count": 4,
   "metadata": {},
   "outputs": [
    {
     "name": "stdout",
     "output_type": "stream",
     "text": [
      "Help on method_descriptor:\n",
      "\n",
      "conjugate(self, /) unbound builtins.complex method\n",
      "    Return the complex conjugate of its argument. (3-4j).conjugate() == 3+4j.\n",
      "\n"
     ]
    }
   ],
   "source": [
    "help(complex.conjugate)  # help is a function that used to print the documentation of an object"
   ]
  },
  {
   "cell_type": "code",
   "execution_count": null,
   "metadata": {},
   "outputs": [],
   "source": [
    "keys = ['name', 'gender', 'age']\n",
    "values = ['Kheang', 'Male', 19]"
   ]
  },
  {
   "cell_type": "markdown",
   "metadata": {},
   "source": [
    "## TP1: "
   ]
  },
  {
   "cell_type": "code",
   "execution_count": 4,
   "metadata": {},
   "outputs": [
    {
     "name": "stdout",
     "output_type": "stream",
     "text": [
      "[2002, 2009, 2016, 2023, 2037, 2044, 2051, 2058, 2072, 2079, 2086, 2093, 2107, 2114, 2121, 2128, 2142, 2149, 2156, 2163, 2177, 2184, 2191, 2198, 2212, 2219, 2226, 2233, 2247, 2254, 2261, 2268, 2282, 2289, 2296, 2303, 2317, 2324, 2331, 2338, 2352, 2359, 2366, 2373, 2387, 2394, 2401, 2408, 2422, 2429, 2436, 2443, 2457, 2464, 2471, 2478, 2492, 2499, 2506, 2513, 2527, 2534, 2541, 2548, 2562, 2569, 2576, 2583, 2597, 2604, 2611, 2618, 2632, 2639, 2646, 2653, 2667, 2674, 2681, 2688, 2702, 2709, 2716, 2723, 2737, 2744, 2751, 2758, 2772, 2779, 2786, 2793, 2807, 2814, 2821, 2828, 2842, 2849, 2856, 2863, 2877, 2884, 2891, 2898, 2912, 2919, 2926, 2933, 2947, 2954, 2961, 2968, 2982, 2989, 2996, 3003, 3017, 3024, 3031, 3038, 3052, 3059, 3066, 3073, 3087, 3094, 3101, 3108, 3122, 3129, 3136, 3143, 3157, 3164, 3171, 3178, 3192, 3199]\n"
     ]
    }
   ],
   "source": [
    "# Q1:\n",
    "list=[]\n",
    "for i in range(1999,3201):\n",
    "    if i % 7 == 0: \n",
    "        if i % 5 != 0:\n",
    "            list.append(i)\n",
    "            # print(i, end=',')\n",
    "print(list)"
   ]
  },
  {
   "cell_type": "code",
   "execution_count": null,
   "metadata": {},
   "outputs": [
    {
     "name": "stdout",
     "output_type": "stream",
     "text": [
      "40320\n"
     ]
    }
   ],
   "source": [
    "# Q2\n",
    "def factorial(n):\n",
    "    if n == 0: \n",
    "        return 1\n",
    "    else: \n",
    "        return n*factorial(n-1)\n",
    "print(factorial(8))"
   ]
  },
  {
   "cell_type": "code",
   "execution_count": 2,
   "metadata": {},
   "outputs": [
    {
     "name": "stdout",
     "output_type": "stream",
     "text": [
      "HELLO WORLD\n"
     ]
    }
   ],
   "source": [
    "# Q3\n",
    "class String:\n",
    "    def __init__(self):\n",
    "        self.string = \"\"\n",
    "    def get_string(self):\n",
    "        self.string = input(\"Input Your phrase: \")\n",
    "    def print_string(self):\n",
    "        print(self.string.upper())\n",
    "\n",
    "objective_string = String()\n",
    "objective_string.get_string()\n",
    "objective_string.print_string()"
   ]
  },
  {
   "cell_type": "code",
   "execution_count": null,
   "metadata": {},
   "outputs": [],
   "source": [
    "# Q4\n"
   ]
  },
  {
   "cell_type": "code",
   "execution_count": 10,
   "metadata": {},
   "outputs": [
    {
     "name": "stdout",
     "output_type": "stream",
     "text": [
      "HEllo World\n",
      "UPPER CASE:3\n",
      "LOWER CASE:8\n"
     ]
    }
   ],
   "source": [
    "#Q5\n",
    "class String:\n",
    "    def __init__(self):\n",
    "        self.string = \"\"\n",
    "    def get_string(self):\n",
    "        self.string = input(\"Input Your sentence: \")\n",
    "    def print_string(self):\n",
    "        print(self.string)\n",
    "    def count_string(self):\n",
    "        upper_count = 0\n",
    "        lower_count = 0\n",
    "        for i in self.string: \n",
    "            if i.isupper():\n",
    "                upper_count += 1\n",
    "            else:\n",
    "                lower_count += 1\n",
    "        print(f\"UPPER CASE:{upper_count}\")\n",
    "        print(f\"LOWER CASE:{lower_count}\")\n",
    "\n",
    "objective_string = String()\n",
    "objective_string.get_string()\n",
    "objective_string.print_string()\n",
    "objective_string.count_string()\n"
   ]
  },
  {
   "cell_type": "markdown",
   "metadata": {},
   "source": [
    "## Homework"
   ]
  },
  {
   "cell_type": "code",
   "execution_count": 22,
   "metadata": {},
   "outputs": [
    {
     "data": {
      "text/plain": [
       "'kheangs'"
      ]
     },
     "execution_count": 22,
     "metadata": {},
     "output_type": "execute_result"
    }
   ],
   "source": [
    "# Activity1\n",
    "def plural():\n",
    "    word = input(\"Input a word: \")\n",
    "    if word[-1] == 'y':\n",
    "        return (word[:-1] + 'ies')\n",
    "    elif word[-1] == 's' or word[-1]=='h' or word[-1]=='x' or word[-1]=='z':\n",
    "        return (word + 'es')\n",
    "    else:\n",
    "        return (word + 's')\n",
    "plural()"
   ]
  },
  {
   "cell_type": "code",
   "execution_count": 27,
   "metadata": {},
   "outputs": [
    {
     "data": {
      "text/plain": [
       "3"
      ]
     },
     "execution_count": 27,
     "metadata": {},
     "output_type": "execute_result"
    }
   ],
   "source": [
    "def hamming_distance(word1,word2):\n",
    "    distance = 0\n",
    "    for i,k in zip(word1,word2):\n",
    "        if i != k:\n",
    "            distance += 1\n",
    "    return distance\n",
    "hamming_distance(\"snake\",\"stack\")"
   ]
  },
  {
   "cell_type": "code",
   "execution_count": 30,
   "metadata": {},
   "outputs": [
    {
     "data": {
      "text/plain": [
       "'NOHTYP'"
      ]
     },
     "execution_count": 30,
     "metadata": {},
     "output_type": "execute_result"
    }
   ],
   "source": [
    "def upside_down(word):\n",
    "    reverse = word[::-1]\n",
    "    return f\"{reverse.upper()}\"\n",
    "upside_down(\"python\")"
   ]
  },
  {
   "cell_type": "markdown",
   "metadata": {},
   "source": [
    "## Week2"
   ]
  },
  {
   "cell_type": "markdown",
   "metadata": {},
   "source": [
    "function"
   ]
  },
  {
   "cell_type": "code",
   "execution_count": 14,
   "metadata": {},
   "outputs": [
    {
     "data": {
      "text/plain": [
       "float"
      ]
     },
     "execution_count": 14,
     "metadata": {},
     "output_type": "execute_result"
    }
   ],
   "source": [
    "def add(x:float, y:float, z:float)->float:\n",
    "    s: float=(x + y + z)\n",
    "    return float(s)\n",
    "# add(1,2,3)\n",
    "type(add(1,2,3))"
   ]
  },
  {
   "cell_type": "code",
   "execution_count": null,
   "metadata": {},
   "outputs": [
    {
     "name": "stdout",
     "output_type": "stream",
     "text": [
      "{'y': 3, 'z': 4}\n",
      "<class 'dict'>\n"
     ]
    },
    {
     "data": {
      "text/plain": [
       "10"
      ]
     },
     "execution_count": 28,
     "metadata": {},
     "output_type": "execute_result"
    }
   ],
   "source": [
    "def add(*args, **kargs) -> float: \n",
    "    \"\"\" * in front of parameter is used as tuple that contains all the values that pass to the function\n",
    "        ** in front of parameter is used as dictionary that contains all the values that pass to the function\n",
    "    \"\"\"\n",
    "    s = sum(args)+sum(kargs.values())\n",
    "    print(kargs)\n",
    "    print(type(kargs))\n",
    "    return s\n",
    "\n",
    "\n",
    "add(1,2,y=3,z=4)\n"
   ]
  },
  {
   "cell_type": "markdown",
   "metadata": {},
   "source": [
    "Decorator"
   ]
  },
  {
   "cell_type": "code",
   "execution_count": 29,
   "metadata": {},
   "outputs": [
    {
     "name": "stdout",
     "output_type": "stream",
     "text": [
      "The function greet started! \n",
      "Good afternoon, everyone!\n",
      "The function greet finished! \n"
     ]
    }
   ],
   "source": [
    "def greet():\n",
    "    print(f\"The function {greet.__name__} started! \")\n",
    "    print(\"Good afternoon, everyone!\") # main statement\n",
    "    print(f\"The function {greet.__name__} finished! \")\n",
    "\n",
    "greet()"
   ]
  },
  {
   "cell_type": "code",
   "execution_count": 31,
   "metadata": {},
   "outputs": [
    {
     "name": "stdout",
     "output_type": "stream",
     "text": [
      "The function add started! \n",
      "The sum of 2 and 3 is 5\n",
      "The function add finished! \n"
     ]
    }
   ],
   "source": [
    "def add(x,y):\n",
    "    print(f\"The function {add.__name__} started! \")\n",
    "    print(f\"The sum of {x} and {y} is {x+y}\")\n",
    "    print(f\"The function {add.__name__} finished! \")\n",
    "\n",
    "add(x=2, y=3)"
   ]
  },
  {
   "cell_type": "code",
   "execution_count": null,
   "metadata": {},
   "outputs": [
    {
     "name": "stdout",
     "output_type": "stream",
     "text": [
      "The function greet started! \n",
      "Good afternoon, everyone!\n",
      "The function greet finished! \n"
     ]
    }
   ],
   "source": [
    "def decorate(func):\n",
    "    def wrapper():\n",
    "        print(f\"The function {func.__name__} started! \")\n",
    "        func() # main statement\n",
    "        print(f\"The function {func.__name__} finished! \")\n",
    "    return wrapper\n",
    "def greet():\n",
    "    print(\"Good afternoon, everyone!\") # main statement\n",
    "# greet()\n",
    "decorated_greet = decorate(func=greet)\n",
    "decorated_greet()"
   ]
  },
  {
   "cell_type": "code",
   "execution_count": null,
   "metadata": {},
   "outputs": [
    {
     "name": "stdout",
     "output_type": "stream",
     "text": [
      "The function greet started! \n",
      "Good afternoon, everyone!\n",
      "The function greet finished! \n"
     ]
    }
   ],
   "source": [
    "def decorate(func):\n",
    "    def wrapper():\n",
    "        print(f\"The function {func.__name__} started! \")\n",
    "        func() # main statement\n",
    "        print(f\"The function {func.__name__} finished! \")\n",
    "    return wrapper\n",
    "@decorate # python will understand that greet is a function that need to be decorated(=decorate(greet))\n",
    "def greet():\n",
    "    print(\"Good afternoon, everyone!\") # main statement\n",
    "greet()"
   ]
  },
  {
   "cell_type": "code",
   "execution_count": 44,
   "metadata": {},
   "outputs": [
    {
     "name": "stdout",
     "output_type": "stream",
     "text": [
      "The function add started! \n",
      "The sum of 3 and 5 is 8\n",
      "The function add finished! \n"
     ]
    }
   ],
   "source": [
    "def decorate(func):\n",
    "    def wrapper(x,y):\n",
    "        print(f\"The function {func.__name__} started! \")\n",
    "        func(x,y) # main statement\n",
    "        print(f\"The function {func.__name__} finished! \")\n",
    "    return wrapper\n",
    "@decorate # python will understand that add is a function that need to be decorated(=decorate(greet))\n",
    "def add(x, y):\n",
    "    print(f\"The sum of {x} and {y} is {x+y}\") # main statement\n",
    "add(x=3, y=5)\n"
   ]
  },
  {
   "cell_type": "code",
   "execution_count": null,
   "metadata": {},
   "outputs": [
    {
     "name": "stdout",
     "output_type": "stream",
     "text": [
      "The function add started! \n",
      "The sum of 3 and 5 is 8\n",
      "The function add finished! \n",
      "The function greet started! \n",
      "Good afternoon, everyone!\n",
      "The function greet finished! \n"
     ]
    }
   ],
   "source": [
    "def decorate(func):\n",
    "    def wrapper(*args, **kwargs): # *args, **kwargs are optional parameters (sytax)\n",
    "        print(f\"The function {func.__name__} started! \")\n",
    "        func(*args, **kwargs) # main statement\n",
    "        print(f\"The function {func.__name__} finished! \")\n",
    "    return wrapper\n",
    "@decorate # python will understand that add is a function that need to be decorated(=decorate(greet))\n",
    "def add(x, y):\n",
    "    print(f\"The sum of {x} and {y} is {x+y}\") # main statement\n",
    "add(x=3, y=5)\n",
    "@decorate\n",
    "def greet():\n",
    "    print(\"Good afternoon, everyone!\") # main statement\n",
    "greet()"
   ]
  },
  {
   "cell_type": "markdown",
   "metadata": {},
   "source": [
    "# OOP_Review\n"
   ]
  },
  {
   "cell_type": "markdown",
   "metadata": {},
   "source": [
    "Class and Object"
   ]
  },
  {
   "cell_type": "code",
   "execution_count": 49,
   "metadata": {},
   "outputs": [
    {
     "name": "stdout",
     "output_type": "stream",
     "text": [
      "(3+4j)\n",
      "<class 'complex'>\n"
     ]
    }
   ],
   "source": [
    "z = complex(real=3, imag=4)\n",
    "print(z)\n",
    "print(type(z))"
   ]
  },
  {
   "cell_type": "code",
   "execution_count": null,
   "metadata": {},
   "outputs": [
    {
     "data": {
      "text/plain": [
       "['__abs__',\n",
       " '__add__',\n",
       " '__bool__',\n",
       " '__class__',\n",
       " '__complex__',\n",
       " '__delattr__',\n",
       " '__dir__',\n",
       " '__doc__',\n",
       " '__eq__',\n",
       " '__format__',\n",
       " '__ge__',\n",
       " '__getattribute__',\n",
       " '__getnewargs__',\n",
       " '__getstate__',\n",
       " '__gt__',\n",
       " '__hash__',\n",
       " '__init__',\n",
       " '__init_subclass__',\n",
       " '__le__',\n",
       " '__lt__',\n",
       " '__mul__',\n",
       " '__ne__',\n",
       " '__neg__',\n",
       " '__new__',\n",
       " '__pos__',\n",
       " '__pow__',\n",
       " '__radd__',\n",
       " '__reduce__',\n",
       " '__reduce_ex__',\n",
       " '__repr__',\n",
       " '__rmul__',\n",
       " '__rpow__',\n",
       " '__rsub__',\n",
       " '__rtruediv__',\n",
       " '__setattr__',\n",
       " '__sizeof__',\n",
       " '__str__',\n",
       " '__sub__',\n",
       " '__subclasshook__',\n",
       " '__truediv__',\n",
       " 'conjugate',\n",
       " 'imag',\n",
       " 'real']"
      ]
     },
     "execution_count": 50,
     "metadata": {},
     "output_type": "execute_result"
    }
   ],
   "source": [
    "z = complex(real=3, imag=4)\n",
    "dir(z) # dir() is used to see attibutes in a class"
   ]
  },
  {
   "cell_type": "code",
   "execution_count": 51,
   "metadata": {},
   "outputs": [
    {
     "data": {
      "text/plain": [
       "4.0"
      ]
     },
     "execution_count": 51,
     "metadata": {},
     "output_type": "execute_result"
    }
   ],
   "source": [
    "z.imag"
   ]
  },
  {
   "cell_type": "code",
   "execution_count": null,
   "metadata": {},
   "outputs": [
    {
     "data": {
      "text/plain": [
       "(3+4j)"
      ]
     },
     "execution_count": 66,
     "metadata": {},
     "output_type": "execute_result"
    }
   ],
   "source": [
    "class Complex:\n",
    "    def __init__(self, real, imag):\n",
    "        self.real = real\n",
    "        self.imag = imag\n",
    "    @property # is a decorator that used to access the method as an attribute\n",
    "    def value(self):\n",
    "        return self.real + self.imag*1j\n",
    "    def conjugate(self):\n",
    "        return self.real - self.imag*1j\n",
    "    def abs(self):\n",
    "        return (self.real**2 + self.image**2) **0.5\n",
    "    def __str__(self):\n",
    "        return f\"{self.real + self.imag*1j}\"\n",
    "    def __repr__(self):\n",
    "        return f\"Complex{self.real + self.imag*1j}\"\n",
    "\n",
    "z = Complex(real=3, imag=4)\n",
    "print(z) # it connects with __str__ method \n",
    "z.value"
   ]
  },
  {
   "cell_type": "code",
   "execution_count": 80,
   "metadata": {},
   "outputs": [
    {
     "ename": "ValueError",
     "evalue": "cannot reshape array of size 9 into shape (3,2)",
     "output_type": "error",
     "traceback": [
      "\u001b[1;31m---------------------------------------------------------------------------\u001b[0m",
      "\u001b[1;31mValueError\u001b[0m                                Traceback (most recent call last)",
      "Cell \u001b[1;32mIn[80], line 2\u001b[0m\n\u001b[0;32m      1\u001b[0m \u001b[38;5;28;01mimport\u001b[39;00m \u001b[38;5;21;01mnumpy\u001b[39;00m \u001b[38;5;28;01mas\u001b[39;00m \u001b[38;5;21;01mnp\u001b[39;00m\n\u001b[1;32m----> 2\u001b[0m arr \u001b[38;5;241m=\u001b[39m \u001b[43mnp\u001b[49m\u001b[38;5;241;43m.\u001b[39;49m\u001b[43marange\u001b[49m\u001b[43m(\u001b[49m\u001b[38;5;241;43m9\u001b[39;49m\u001b[43m)\u001b[49m\u001b[38;5;241;43m.\u001b[39;49m\u001b[43mreshape\u001b[49m\u001b[43m(\u001b[49m\u001b[38;5;241;43m3\u001b[39;49m\u001b[43m,\u001b[49m\u001b[43m \u001b[49m\u001b[38;5;241;43m2\u001b[39;49m\u001b[43m)\u001b[49m\n\u001b[0;32m      3\u001b[0m \u001b[38;5;28mprint\u001b[39m(arr\u001b[38;5;241m.\u001b[39mshape)\n",
      "\u001b[1;31mValueError\u001b[0m: cannot reshape array of size 9 into shape (3,2)"
     ]
    }
   ],
   "source": [
    "import numpy as np\n",
    "arr = np.arange(9).reshape(3, 2)\n",
    "print(arr.shape)"
   ]
  },
  {
   "cell_type": "code",
   "execution_count": 73,
   "metadata": {},
   "outputs": [
    {
     "name": "stdout",
     "output_type": "stream",
     "text": [
      "6\n"
     ]
    }
   ],
   "source": [
    "def multiply(a,b=2):\n",
    "    return a*b\n",
    "print(multiply(3))"
   ]
  },
  {
   "cell_type": "code",
   "execution_count": 2,
   "metadata": {},
   "outputs": [
    {
     "name": "stdout",
     "output_type": "stream",
     "text": [
      "Webcam found at index: 0\n"
     ]
    }
   ],
   "source": [
    "import cv2\n",
    "\n",
    "def find_webcam_index():\n",
    "    for index in range(10):  # Check first 10 indexes\n",
    "        cap = cv2.VideoCapture(index)\n",
    "        if cap.read()[0]:  # If the webcam opens successfully\n",
    "            print(f\"Webcam found at index: {index}\")\n",
    "            cap.release()\n",
    "        else:\n",
    "            cap.release()\n",
    "\n",
    "find_webcam_index()\n"
   ]
  },
  {
   "cell_type": "code",
   "execution_count": 1,
   "metadata": {},
   "outputs": [
    {
     "name": "stdout",
     "output_type": "stream",
     "text": [
      "✅ Iriun Webcam detected at index 0\n"
     ]
    }
   ],
   "source": [
    "import cv2\n",
    "\n",
    "for i in range(5):  # Try different indexes (0,1,2,3,4)\n",
    "    cap = cv2.VideoCapture(i)\n",
    "    if cap.isOpened():\n",
    "        print(f\"✅ Iriun Webcam detected at index {i}\")\n",
    "        cap.release()\n",
    "        break\n",
    "else:\n",
    "    print(\"❌ Iriun Webcam not found. Try restarting the app.\")\n"
   ]
  }
 ],
 "metadata": {
  "kernelspec": {
   "display_name": "Python 3",
   "language": "python",
   "name": "python3"
  },
  "language_info": {
   "codemirror_mode": {
    "name": "ipython",
    "version": 3
   },
   "file_extension": ".py",
   "mimetype": "text/x-python",
   "name": "python",
   "nbconvert_exporter": "python",
   "pygments_lexer": "ipython3",
   "version": "3.12.7"
  }
 },
 "nbformat": 4,
 "nbformat_minor": 2
}
