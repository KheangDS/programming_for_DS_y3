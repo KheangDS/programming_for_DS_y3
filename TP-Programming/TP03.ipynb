{
 "cells": [
  {
   "cell_type": "markdown",
   "metadata": {},
   "source": [
    "# TP3-Function"
   ]
  },
  {
   "cell_type": "code",
   "execution_count": 1,
   "metadata": {},
   "outputs": [
    {
     "name": "stdout",
     "output_type": "stream",
     "text": [
      "My name is Kheang. I am 20 years old.\n"
     ]
    }
   ],
   "source": [
    "# Exercise1:\n",
    "def display(name,age):\n",
    "    print(f\"My name is {name}. I am {age} years old.\")\n",
    "display(\"Kheang\",20)\n"
   ]
  },
  {
   "cell_type": "code",
   "execution_count": 2,
   "metadata": {},
   "outputs": [
    {
     "name": "stdout",
     "output_type": "stream",
     "text": [
      "20\n",
      "40\n",
      "60\n",
      "80\n",
      "100\n"
     ]
    }
   ],
   "source": [
    "# Exercise2:\n",
    "def func1(*args):\n",
    "    for arg in args:\n",
    "        print(arg)\n",
    "func1(20,40,60)\n",
    "func1(80,100)\n"
   ]
  },
  {
   "cell_type": "code",
   "execution_count": 3,
   "metadata": {},
   "outputs": [
    {
     "name": "stdout",
     "output_type": "stream",
     "text": [
      "Employee Ben , salary is: 9000\n"
     ]
    }
   ],
   "source": [
    "# Exercise3:\n",
    "def show_employee(name,salary=9000):\n",
    "    print(f\"Employee {name} , salary is: {salary}\")\n",
    "show_employee(\"Ben\")\n"
   ]
  },
  {
   "cell_type": "markdown",
   "metadata": {},
   "source": [
    "# Homework"
   ]
  },
  {
   "cell_type": "code",
   "execution_count": 4,
   "metadata": {},
   "outputs": [
    {
     "name": "stdout",
     "output_type": "stream",
     "text": [
      "List:[85, 72, 49, 60, 46, 15, 75, 3, 26, 34, 32, 33, 88, 58, 46, 58, 22, 50, 99, 78]\n",
      "False\n",
      "False\n",
      "False\n",
      "False\n",
      "False\n",
      "False\n",
      "False\n",
      "False\n",
      "False\n",
      "False\n",
      "False\n",
      "False\n",
      "False\n",
      "False\n",
      "False\n",
      "False\n",
      "False\n",
      "False\n",
      "False\n",
      "None\n"
     ]
    }
   ],
   "source": [
    "# Ex1\n",
    "# Q1:\n",
    "from random import randint\n",
    "\n",
    "def sum_of_twenty():\n",
    "    mylist_20 = [randint(1,99) for i in range(20)]\n",
    "\n",
    "    print(f\"List:{mylist_20}\")\n",
    "    sum_of_pair = 0\n",
    "    pair = []\n",
    "    for i in range(len(mylist_20)-1):\n",
    "        if mylist_20[i] + mylist_20[i+1] == 100:\n",
    "            pair.append((mylist_20[i],mylist_20[i+1]))\n",
    "            sum_of_pair += 1\n",
    "            print(f\"Sum of pair: {sum_of_pair}, Pair: {pair}\")\n",
    "            print(\"True\") #why the statement after return cannot display\n",
    "        else:\n",
    "            # return False  #when we use return , the its condition is true it will return the value and exit the function\n",
    "            print(\"False\")\n",
    "    # print(f\"Sum of pair: {sum_of_pair}, Pair: {pair}\")\n",
    "print(sum_of_twenty())\n",
    "\n"
   ]
  },
  {
   "cell_type": "code",
   "execution_count": 5,
   "metadata": {},
   "outputs": [
    {
     "name": "stdout",
     "output_type": "stream",
     "text": [
      "List:[68, 76, 96, 78, 55, 40, 2, 33, 32, 85, 62, 43, 54, 40, 62, 10, 7, 38, 28, 75]\n",
      "Pair List:[(68, 32), (32, 68), (62, 38), (62, 38), (38, 62), (38, 62)]\n"
     ]
    }
   ],
   "source": [
    "# Q2:\n",
    "mylist_20 = [randint(1,99) for i in range(20)]\n",
    "pair = []\n",
    "for i in range(len(mylist_20)):\n",
    "    for j in range(len(mylist_20)):\n",
    "        if mylist_20[i] + mylist_20[j] == 100:\n",
    "            pair.append((mylist_20[i],mylist_20[j]))\n",
    "print(f\"List:{mylist_20}\")\n",
    "print(f\"Pair List:{pair}\")"
   ]
  },
  {
   "cell_type": "code",
   "execution_count": 6,
   "metadata": {},
   "outputs": [
    {
     "name": "stdout",
     "output_type": "stream",
     "text": [
      "[]\n"
     ]
    }
   ],
   "source": [
    "# Q3:\n",
    "mylist_20 = [16,2,85,27,9,45,98,73,12,26,46,25,26,49,18,99,10,86,7,42]\n",
    "seq = []\n",
    "for i in range(len(mylist_20)-2):\n",
    "    j=1\n",
    "    k = mylist_20[i]+mylist_20[i+j]\n",
    "    if k < 100:\n",
    "        j+=1\n",
    "        k+=mylist_20[i+j]\n",
    "    elif k == 100:\n",
    "        seq.append((mylist_20[i],mylist_20[i+j]))\n",
    "print(seq)\n",
    "\n"
   ]
  },
  {
   "cell_type": "code",
   "execution_count": 53,
   "metadata": {},
   "outputs": [
    {
     "name": "stdout",
     "output_type": "stream",
     "text": [
      "random list = [75, 19, 77, 23, 3, 4, 51, 44, 37, 49, 36, 61, 71, 6, 91, 60, 17, 56, 62, 85]\n",
      "sequence subset: [77, 23]\n"
     ]
    }
   ],
   "source": [
    "def find_contiguous_subsets(nums, target):\n",
    "    result = []\n",
    "    \n",
    "    # Iterate over all possible starting points\n",
    "    for start in range(len(nums)):\n",
    "        total = 0\n",
    "        \n",
    "        # Try every possible end point from the start\n",
    "        for end in range(start, len(nums)):\n",
    "            total += nums[end]\n",
    "\n",
    "            # If the sum reaches exactly 100, capture the sublist\n",
    "            if total == target:\n",
    "                result.append(nums[start:end + 1])\n",
    "                break  # Optional: stop after first match for this start point\n",
    "            \n",
    "            # Stop if sum exceeds target\n",
    "            if total > target:\n",
    "                break\n",
    "\n",
    "    return result\n",
    "\n",
    "\n",
    "mylist_20 = [randint(1,99) for i in range(20)]\n",
    "print(f\"random list = {mylist_20}\")\n",
    "subsets = find_contiguous_subsets(mylist_20, 100)\n",
    "for subset in subsets:\n",
    "    print(f\"sequence subset: {subset}\")\n"
   ]
  },
  {
   "cell_type": "markdown",
   "metadata": {},
   "source": [
    "# Exercise2"
   ]
  },
  {
   "cell_type": "code",
   "execution_count": null,
   "metadata": {},
   "outputs": [
    {
     "name": "stdout",
     "output_type": "stream",
     "text": [
      "[100, 12, 1, 8, 3, 9, 3, 5, 3, 9, 8, 1]\n",
      "sum1 = 118\n",
      "sum2 = 44\n",
      "maxsum1 = 118\n"
     ]
    }
   ],
   "source": [
    "def max_coins(coins):\n",
    "    sum1 = 0\n",
    "    sum2 = 0\n",
    "    for i in range(0,len(coins),2):\n",
    "        sum1 += mylist[i]\n",
    "    for j in range(1,len(coins),2):\n",
    "        sum2 += mylist[j]\n",
    "    print(f\"sum1 = {sum1}\")\n",
    "    print(f\"sum2 = {sum2}\")\n",
    "    if sum1 > sum2:\n",
    "        return f\"maxsum1 = {sum1}\"\n",
    "    else:    \n",
    "        return f\"maxsum2 = {sum2}\"\n",
    "mylist = [100,12,1,8,3,9,3,5,3,9,8,1]\n",
    "print(mylist)\n",
    "print(max_coins(mylist))\n",
    "\n",
    "\n",
    "\n",
    "# AI Method:\n",
    "# def max_coins(coins):\n",
    "#     # Sum of every alternate element (starting from index 0 and 1)\n",
    "#     sum1 = sum(coins[::2])  # Even index elements\n",
    "#     sum2 = sum(coins[1::2]) # Odd index elements\n",
    "\n",
    "#     # Print sums\n",
    "#     print(f\"Sum from even indices (sum1): {sum1}\")\n",
    "#     print(f\"Sum from odd indices (sum2): {sum2}\")\n",
    "\n",
    "#     # Return the maximum sum and indicate which one is larger\n",
    "#     if sum1 > sum2:\n",
    "#         return sum1, \"Even index sum is larger\"\n",
    "#     else:\n",
    "#         return sum2, \"Odd index sum is larger\"\n",
    "\n",
    "# # Example list\n",
    "# mylist = [100, 12, 1, 8, 3, 9, 3, 5, 3, 9, 8, 1]\n",
    "\n",
    "# # Print the list\n",
    "# print(\"List of coins:\", mylist)\n",
    "\n",
    "# # Call the function and print the result\n",
    "# max_sum, message = max_coins(mylist)\n",
    "# print(f\"\\nMax Sum: {max_sum}\")\n",
    "# print(message)\n"
   ]
  }
 ],
 "metadata": {
  "kernelspec": {
   "display_name": "Python 3",
   "language": "python",
   "name": "python3"
  },
  "language_info": {
   "codemirror_mode": {
    "name": "ipython",
    "version": 3
   },
   "file_extension": ".py",
   "mimetype": "text/x-python",
   "name": "python",
   "nbconvert_exporter": "python",
   "pygments_lexer": "ipython3",
   "version": "3.12.7"
  }
 },
 "nbformat": 4,
 "nbformat_minor": 2
}
