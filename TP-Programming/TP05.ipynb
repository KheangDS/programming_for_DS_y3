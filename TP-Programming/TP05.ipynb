{
 "cells": [
  {
   "cell_type": "markdown",
   "metadata": {},
   "source": [
    "# Inheritance"
   ]
  },
  {
   "cell_type": "code",
   "execution_count": 1,
   "metadata": {},
   "outputs": [
    {
     "name": "stdout",
     "output_type": "stream",
     "text": [
      "Hello from the SuperClass class!\n"
     ]
    },
    {
     "ename": "TypeError",
     "evalue": "SubClass.greet() missing 1 required positional argument: 'self'",
     "output_type": "error",
     "traceback": [
      "\u001b[1;31m---------------------------------------------------------------------------\u001b[0m",
      "\u001b[1;31mTypeError\u001b[0m                                 Traceback (most recent call last)",
      "Cell \u001b[1;32mIn[1], line 11\u001b[0m\n\u001b[0;32m      9\u001b[0m sup\u001b[38;5;241m.\u001b[39mgreet()\n\u001b[0;32m     10\u001b[0m sub \u001b[38;5;241m=\u001b[39m SubClass\n\u001b[1;32m---> 11\u001b[0m \u001b[43msub\u001b[49m\u001b[38;5;241;43m.\u001b[39;49m\u001b[43mgreet\u001b[49m\u001b[43m(\u001b[49m\u001b[43m)\u001b[49m\n",
      "\u001b[1;31mTypeError\u001b[0m: SubClass.greet() missing 1 required positional argument: 'self'"
     ]
    }
   ],
   "source": [
    "class SupperClass:\n",
    "    def greet(self):\n",
    "        print(\"Hello from the SuperClass class!\")\n",
    "class SubClass(SupperClass):\n",
    "    def greet(self):\n",
    "        print(\"Hello from the SubClass class!\")\n",
    "if __name__ == '__main__':\n",
    "    sup = SupperClass()\n",
    "    sup.greet()\n",
    "    sub = SubClass\n",
    "    sub.greet()\n"
   ]
  },
  {
   "cell_type": "markdown",
   "metadata": {},
   "source": [
    "# TP05"
   ]
  },
  {
   "cell_type": "code",
   "execution_count": 15,
   "metadata": {},
   "outputs": [],
   "source": [
    "# Ex1:\n",
    "class Employee:\n",
    "    def __init__(self,name,department):\n",
    "        self.name = name\n",
    "        self._department = department\n",
    "    def show_detail(self):\n",
    "        print(\"Employee Name: \",self.name)\n",
    "        print(\"Department: \",self._department.upper())\n",
    "        # print(\"------------------------\")\n",
    "\n",
    "        \n",
    "class Developer(Employee):\n",
    "    def __init__(self,name,department,programming_language):\n",
    "        super().__init__(name,department)\n",
    "        self.programming_language = programming_language\n",
    "    def show_language(self):\n",
    "        if self.programming_language.lower() == \"python\":\n",
    "            print(\"Python Developer.\")\n",
    "        else:\n",
    "            print(\"Programming Language: \",self.programming_language.upper())\n",
    "        print(\"------------------------\")\n"
   ]
  },
  {
   "cell_type": "code",
   "execution_count": 14,
   "metadata": {},
   "outputs": [
    {
     "name": "stdout",
     "output_type": "stream",
     "text": [
      "\n",
      " All developers:\n",
      "Employee Name:  Alice\n",
      "Department:  IT\n",
      "Python Developer.\n",
      "------------------------\n",
      "Employee Name:  Bob\n",
      "Department:  ENGINEERING\n",
      "Programming Language:  Java\n",
      "------------------------\n",
      "Employee Name:  Kheang\n",
      "Department:  AMS\n",
      "Programming Language:  SQL\n",
      "------------------------\n"
     ]
    }
   ],
   "source": [
    "# object = Developer()\n",
    "developers = []\n",
    "while True:\n",
    "    name = input(\"Enter Employee Name: \")\n",
    "    department = input(\"Enter Department: \")\n",
    "    programming_language = input(\"Enter Programming Language: \")\n",
    "    choice = input(\"Enter another developer? (y/n): \")\n",
    "    dev = Developer(name,department,programming_language)\n",
    "    developers.append(dev)\n",
    "    if choice.lower() == 'n':\n",
    "        break\n",
    "print(\"\\n All developers:\")\n",
    "for dev in developers:\n",
    "    dev.show_detail()\n",
    "    dev.show_language()"
   ]
  },
  {
   "cell_type": "code",
   "execution_count": null,
   "metadata": {},
   "outputs": [
    {
     "data": {
      "text/plain": [
       "1.5"
      ]
     },
     "execution_count": 3,
     "metadata": {},
     "output_type": "execute_result"
    }
   ],
   "source": [
    "# Ex2:\n",
    "class Vehicle:\n",
    "    def __init__(self):\n",
    "        self.__speed = 0\n",
    "    def accelerated(self, alpha):\n",
    "        self.__speed += alpha\n",
    "    def brake(self, alpha):\n",
    "        if self.__speed <0:\n",
    "            print(\"The vehicle is already stop!\")\n",
    "        else:\n",
    "            self.__speed -= alpha\n",
    "    def get_speed(self, cureent_speed):\n",
    "        return cureent_speed\n",
    "    def show_speed(self):\n",
    "        return self.__speed\n",
    "\n",
    "class Car(Vehicle):\n",
    "    def __init__(self,):\n",
    "        self._fuel_level = 100\n",
    "    def drive(self):\n",
    "        super().accelerated(30)\n",
    "        self._fuel_level -= 10\n",
    "\n",
    "c1 = Vehicle()\n",
    "c1.accelerated(1.5)\n",
    "c1.show_speed()"
   ]
  },
  {
   "cell_type": "code",
   "execution_count": null,
   "metadata": {},
   "outputs": [],
   "source": [
    "class Coordinator(Student):\n",
    "    def __init__(self, name, sid, pos):\n",
    "        super()"
   ]
  }
 ],
 "metadata": {
  "kernelspec": {
   "display_name": "Python 3",
   "language": "python",
   "name": "python3"
  },
  "language_info": {
   "codemirror_mode": {
    "name": "ipython",
    "version": 3
   },
   "file_extension": ".py",
   "mimetype": "text/x-python",
   "name": "python",
   "nbconvert_exporter": "python",
   "pygments_lexer": "ipython3",
   "version": "3.12.7"
  }
 },
 "nbformat": 4,
 "nbformat_minor": 2
}
