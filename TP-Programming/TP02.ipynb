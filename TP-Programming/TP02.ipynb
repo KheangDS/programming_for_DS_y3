{
 "cells": [
  {
   "cell_type": "markdown",
   "metadata": {},
   "source": [
    "## TP2-Condiction, Loop, Container and Function"
   ]
  },
  {
   "cell_type": "code",
   "execution_count": 10,
   "metadata": {},
   "outputs": [
    {
     "name": "stdout",
     "output_type": "stream",
     "text": [
      "The distance between the points is:  2.23606797749979\n",
      "The distance between the points is:  2\n"
     ]
    }
   ],
   "source": [
    "#Exercise-1:\n",
    "import math\n",
    "# def distance(up, down, left, right):\n",
    "#     return math.sqrt((up - down)**2 + (right - left)**2)\n",
    "# def main():\n",
    "#     up = int(input(\"Enter the up value: \"))\n",
    "#     down = int(input(\"Enter the down value: \"))\n",
    "#     left = int(input(\"Enter the left value: \"))\n",
    "#     right = int(input(\"Enter the right value: \"))\n",
    "#     print(\"The distance between the points is: \", round(distance(up, down, left, right)))\n",
    "# main()\n",
    "\n",
    "#Method-2:\n",
    "move = [(\"UP\",5),(\"DOWN\",3),(\"LEFT\",3),(\"RIGHT\",2)]\n",
    "pos = {\"x\":0,\"y\":0}\n",
    "for mv in move:\n",
    "    if mv[0] == \"UP\":\n",
    "        pos[\"y\"] += mv[1]\n",
    "    elif mv[0] == \"DOWN\":\n",
    "        pos[\"y\"] -= mv[1]\n",
    "    elif mv[0] == \"LEFT\":\n",
    "        pos[\"x\"] -= mv[1]\n",
    "    elif mv[0] == \"RIGHT\":\n",
    "        pos[\"x\"] += mv[1]\n",
    "\n",
    "print(\"The distance between the points is: \", math.sqrt(pos[\"x\"]**2 + pos[\"y\"]**2))\n",
    "print(\"The distance between the points is: \", int(round(math.sqrt(pos[\"x\"]**2 + pos[\"y\"]**2))))\n"
   ]
  },
  {
   "cell_type": "code",
   "execution_count": 6,
   "metadata": {},
   "outputs": [
    {
     "data": {
      "text/plain": [
       "[4, 6, 6, 7, 8, 11, 12, 13]"
      ]
     },
     "execution_count": 6,
     "metadata": {},
     "output_type": "execute_result"
    }
   ],
   "source": [
    "# Exercise-2:\n",
    "def bubble_sort(mylist):\n",
    "    for i in range(len(mylist)):\n",
    "        for j in range(len(mylist)-1):\n",
    "            if mylist[j] > mylist[j+1]:\n",
    "                mylist[j], mylist[j+1] = mylist[j+1], mylist[j]  #exchange the values\n",
    "    return mylist\n",
    "bubble_sort([13,11,7,4,6,8,12,6])"
   ]
  },
  {
   "cell_type": "code",
   "execution_count": 14,
   "metadata": {},
   "outputs": [
    {
     "name": "stdout",
     "output_type": "stream",
     "text": [
      "5\n"
     ]
    }
   ],
   "source": [
    "#Exercise-3:\n",
    "n = 21\n",
    "p = 0\n",
    "while True:\n",
    "    if p**2 < n:\n",
    "        p+=1\n",
    "    else:\n",
    "        break\n",
    "print(p)\n"
   ]
  }
 ],
 "metadata": {
  "kernelspec": {
   "display_name": "Python 3",
   "language": "python",
   "name": "python3"
  },
  "language_info": {
   "codemirror_mode": {
    "name": "ipython",
    "version": 3
   },
   "file_extension": ".py",
   "mimetype": "text/x-python",
   "name": "python",
   "nbconvert_exporter": "python",
   "pygments_lexer": "ipython3",
   "version": "3.12.4"
  }
 },
 "nbformat": 4,
 "nbformat_minor": 2
}
