{
 "cells": [
  {
   "cell_type": "code",
   "execution_count": 6,
   "id": "2a7a03c6",
   "metadata": {},
   "outputs": [],
   "source": [
    "# Import all required libraries upfront\n",
    "import requests\n",
    "from bs4 import BeautifulSoup\n",
    "from selenium import webdriver\n",
    "from selenium.webdriver.chrome.service import Service\n",
    "from selenium.webdriver.chrome.options import Options\n",
    "from webdriver_manager.chrome import ChromeDriverManager\n",
    "import pandas as pd\n",
    "import time"
   ]
  },
  {
   "cell_type": "code",
   "execution_count": 7,
   "id": "e1fd510f",
   "metadata": {},
   "outputs": [],
   "source": [
    "# URL for Premier League Stats\n",
    "standings_url = 'https://fbref.com/en/comps/9/Premier-League-Stats'"
   ]
  },
  {
   "cell_type": "code",
   "execution_count": 8,
   "id": "4912f80b",
   "metadata": {},
   "outputs": [],
   "source": [
    "def get_fbref_data(url):\n",
    "    # Set up Chrome options\n",
    "    chrome_options = Options()\n",
    "    chrome_options.add_argument('--headless')  # Run in headless mode\n",
    "    chrome_options.add_argument('--disable-gpu')\n",
    "    chrome_options.add_argument('--no-sandbox')\n",
    "    chrome_options.add_argument('--disable-dev-shm-usage')\n",
    "    chrome_options.add_argument('--window-size=1920,1080')  # Set window size\n",
    "    \n",
    "    # Initialize the driver\n",
    "    driver = webdriver.Chrome(\n",
    "        service=Service(ChromeDriverManager().install()),\n",
    "        options=chrome_options\n",
    "    )\n",
    "    \n",
    "    try:\n",
    "        # Add random delay between 1-3 seconds\n",
    "        time.sleep(2)\n",
    "        driver.get(url)\n",
    "        \n",
    "        # Get the page source\n",
    "        html_content = driver.page_source\n",
    "        soup = BeautifulSoup(html_content, 'html.parser')\n",
    "        return soup\n",
    "        \n",
    "    finally:\n",
    "        driver.quit()"
   ]
  },
  {
   "cell_type": "code",
   "execution_count": null,
   "id": "dce004d9",
   "metadata": {},
   "outputs": [],
   "source": [
    "# Main scraping function\n",
    "def scrape_premier_league_data(start_year=2025, end_year=2023):\n",
    "    all_matches = []\n",
    "    standings_url = \"https://fbref.com/en/comps/9/Premier-League-Stats\"\n",
    "    \n",
    "    years = list(range(start_year, end_year, -1))\n",
    "    for year in years:\n",
    "        print(f\"\\nScraping {year} season...\")\n",
    "        \n",
    "        # Get standings page using Selenium\n",
    "        soup = get_fbref_data(standings_url)\n",
    "        standings_table = soup.select('table.stats_table')[0]\n",
    "        \n",
    "        # Get team URLs\n",
    "        links = [l.get(\"href\") for l in standings_table.find_all('a')]\n",
    "        links = [l for l in links if '/squads/' in l]\n",
    "        team_urls = [f\"https://fbref.com{l}\" for l in links]\n",
    "        \n",
    "        # Get URL for previous season\n",
    "        previous_season = soup.select(\"a.prev\")[0].get(\"href\")\n",
    "        standings_url = f\"https://fbref.com{previous_season}\"\n",
    "        \n",
    "        # Process each team\n",
    "        for team_url in team_urls:\n",
    "            try:\n",
    "                team_name = team_url.split(\"/\")[-1].replace(\"-Stats\", \"\").replace(\"-\", \" \")\n",
    "                print(f\"\\nProcessing {team_name}...\")\n",
    "                \n",
    "                # Get team page data using Selenium\n",
    "                team_soup = get_fbref_data(team_url)\n",
    "                matches = pd.read_html(team_soup.prettify(), match=\"Scores & Fixtures\")[0]\n",
    "                \n",
    "                # Get shooting stats URL\n",
    "                links = [l.get(\"href\") for l in team_soup.find_all('a')]\n",
    "                shooting_links = [l for l in links if l and 'all_comps/shooting/' in l]\n",
    "                \n",
    "                if shooting_links:\n",
    "                    # Get shooting stats using Selenium\n",
    "                    shooting_soup = get_fbref_data(f\"https://fbref.com{shooting_links[0]}\")\n",
    "                    shooting = pd.read_html(shooting_soup.prettify(), match=\"Shooting\")[0]\n",
    "                    shooting.columns = shooting.columns.droplevel()\n",
    "                    \n",
    "                    try:\n",
    "                        # Merge matches with shooting data\n",
    "                        team_data = matches.merge(\n",
    "                            shooting[[\"Date\", \"Sh\", \"SoT\", \"Dist\", \"FK\", \"PK\", \"PKatt\"]], \n",
    "                            on=\"Date\"\n",
    "                        )\n",
    "                        \n",
    "                        # Filter Premier League matches only\n",
    "                        team_data = team_data[team_data[\"Comp\"] == \"Premier League\"]\n",
    "                        \n",
    "                        # Add season and team info\n",
    "                        team_data[\"Season\"] = year\n",
    "                        team_data[\"Team\"] = team_name\n",
    "                        \n",
    "                        all_matches.append(team_data)\n",
    "                        print(f\"Successfully scraped {len(team_data)} matches\")\n",
    "                        \n",
    "                    except ValueError as e:\n",
    "                        print(f\"Error merging data for {team_name}: {e}\")\n",
    "                        continue\n",
    "                \n",
    "                time.sleep(2)  # Reduced delay between teams\n",
    "                \n",
    "            except Exception as e:\n",
    "                print(f\"Error processing {team_url}: {e}\")\n",
    "                continue+\n",
    "    \n",
    "    # Combine all data\n",
    "    if all_matches:\n",
    "        match_df = pd.concat(all_matches, ignore_index=True)\n",
    "        # Convert column names to lowercase to match matches.csv\n",
    "        match_df.columns = [c.lower() for c in match_df.columns]\n",
    "        return match_df\n",
    "    return None"
   ]
  },
  {
   "cell_type": "code",
   "execution_count": 10,
   "id": "96878270",
   "metadata": {},
   "outputs": [
    {
     "name": "stdout",
     "output_type": "stream",
     "text": [
      "\n",
      "Scraping 2022 season...\n",
      "\n",
      "Processing Liverpool...\n"
     ]
    },
    {
     "name": "stderr",
     "output_type": "stream",
     "text": [
      "C:\\Users\\hp\\AppData\\Local\\Temp\\ipykernel_14672\\1803160789.py:31: FutureWarning: Passing literal html to 'read_html' is deprecated and will be removed in a future version. To read from a literal string, wrap it in a 'StringIO' object.\n",
      "  matches = pd.read_html(team_soup.prettify(), match=\"Scores & Fixtures\")[0]\n",
      "C:\\Users\\hp\\AppData\\Local\\Temp\\ipykernel_14672\\1803160789.py:40: FutureWarning: Passing literal html to 'read_html' is deprecated and will be removed in a future version. To read from a literal string, wrap it in a 'StringIO' object.\n",
      "  shooting = pd.read_html(shooting_soup.prettify(), match=\"Shooting\")[0]\n"
     ]
    },
    {
     "name": "stdout",
     "output_type": "stream",
     "text": [
      "Successfully scraped 38 matches\n",
      "\n",
      "Processing Arsenal...\n"
     ]
    },
    {
     "name": "stderr",
     "output_type": "stream",
     "text": [
      "C:\\Users\\hp\\AppData\\Local\\Temp\\ipykernel_14672\\1803160789.py:31: FutureWarning: Passing literal html to 'read_html' is deprecated and will be removed in a future version. To read from a literal string, wrap it in a 'StringIO' object.\n",
      "  matches = pd.read_html(team_soup.prettify(), match=\"Scores & Fixtures\")[0]\n",
      "C:\\Users\\hp\\AppData\\Local\\Temp\\ipykernel_14672\\1803160789.py:40: FutureWarning: Passing literal html to 'read_html' is deprecated and will be removed in a future version. To read from a literal string, wrap it in a 'StringIO' object.\n",
      "  shooting = pd.read_html(shooting_soup.prettify(), match=\"Shooting\")[0]\n"
     ]
    },
    {
     "name": "stdout",
     "output_type": "stream",
     "text": [
      "Successfully scraped 38 matches\n",
      "\n",
      "Processing Manchester City...\n"
     ]
    },
    {
     "name": "stderr",
     "output_type": "stream",
     "text": [
      "C:\\Users\\hp\\AppData\\Local\\Temp\\ipykernel_14672\\1803160789.py:31: FutureWarning: Passing literal html to 'read_html' is deprecated and will be removed in a future version. To read from a literal string, wrap it in a 'StringIO' object.\n",
      "  matches = pd.read_html(team_soup.prettify(), match=\"Scores & Fixtures\")[0]\n",
      "C:\\Users\\hp\\AppData\\Local\\Temp\\ipykernel_14672\\1803160789.py:40: FutureWarning: Passing literal html to 'read_html' is deprecated and will be removed in a future version. To read from a literal string, wrap it in a 'StringIO' object.\n",
      "  shooting = pd.read_html(shooting_soup.prettify(), match=\"Shooting\")[0]\n"
     ]
    },
    {
     "name": "stdout",
     "output_type": "stream",
     "text": [
      "Successfully scraped 38 matches\n",
      "\n",
      "Processing Chelsea...\n"
     ]
    },
    {
     "name": "stderr",
     "output_type": "stream",
     "text": [
      "C:\\Users\\hp\\AppData\\Local\\Temp\\ipykernel_14672\\1803160789.py:31: FutureWarning: Passing literal html to 'read_html' is deprecated and will be removed in a future version. To read from a literal string, wrap it in a 'StringIO' object.\n",
      "  matches = pd.read_html(team_soup.prettify(), match=\"Scores & Fixtures\")[0]\n",
      "C:\\Users\\hp\\AppData\\Local\\Temp\\ipykernel_14672\\1803160789.py:40: FutureWarning: Passing literal html to 'read_html' is deprecated and will be removed in a future version. To read from a literal string, wrap it in a 'StringIO' object.\n",
      "  shooting = pd.read_html(shooting_soup.prettify(), match=\"Shooting\")[0]\n"
     ]
    },
    {
     "name": "stdout",
     "output_type": "stream",
     "text": [
      "Successfully scraped 38 matches\n",
      "\n",
      "Processing Newcastle United...\n"
     ]
    },
    {
     "name": "stderr",
     "output_type": "stream",
     "text": [
      "C:\\Users\\hp\\AppData\\Local\\Temp\\ipykernel_14672\\1803160789.py:31: FutureWarning: Passing literal html to 'read_html' is deprecated and will be removed in a future version. To read from a literal string, wrap it in a 'StringIO' object.\n",
      "  matches = pd.read_html(team_soup.prettify(), match=\"Scores & Fixtures\")[0]\n",
      "C:\\Users\\hp\\AppData\\Local\\Temp\\ipykernel_14672\\1803160789.py:40: FutureWarning: Passing literal html to 'read_html' is deprecated and will be removed in a future version. To read from a literal string, wrap it in a 'StringIO' object.\n",
      "  shooting = pd.read_html(shooting_soup.prettify(), match=\"Shooting\")[0]\n"
     ]
    },
    {
     "name": "stdout",
     "output_type": "stream",
     "text": [
      "Successfully scraped 38 matches\n",
      "\n",
      "Processing Aston Villa...\n"
     ]
    },
    {
     "name": "stderr",
     "output_type": "stream",
     "text": [
      "C:\\Users\\hp\\AppData\\Local\\Temp\\ipykernel_14672\\1803160789.py:31: FutureWarning: Passing literal html to 'read_html' is deprecated and will be removed in a future version. To read from a literal string, wrap it in a 'StringIO' object.\n",
      "  matches = pd.read_html(team_soup.prettify(), match=\"Scores & Fixtures\")[0]\n",
      "C:\\Users\\hp\\AppData\\Local\\Temp\\ipykernel_14672\\1803160789.py:40: FutureWarning: Passing literal html to 'read_html' is deprecated and will be removed in a future version. To read from a literal string, wrap it in a 'StringIO' object.\n",
      "  shooting = pd.read_html(shooting_soup.prettify(), match=\"Shooting\")[0]\n"
     ]
    },
    {
     "name": "stdout",
     "output_type": "stream",
     "text": [
      "Successfully scraped 38 matches\n",
      "\n",
      "Processing Nottingham Forest...\n"
     ]
    },
    {
     "name": "stderr",
     "output_type": "stream",
     "text": [
      "C:\\Users\\hp\\AppData\\Local\\Temp\\ipykernel_14672\\1803160789.py:31: FutureWarning: Passing literal html to 'read_html' is deprecated and will be removed in a future version. To read from a literal string, wrap it in a 'StringIO' object.\n",
      "  matches = pd.read_html(team_soup.prettify(), match=\"Scores & Fixtures\")[0]\n",
      "C:\\Users\\hp\\AppData\\Local\\Temp\\ipykernel_14672\\1803160789.py:40: FutureWarning: Passing literal html to 'read_html' is deprecated and will be removed in a future version. To read from a literal string, wrap it in a 'StringIO' object.\n",
      "  shooting = pd.read_html(shooting_soup.prettify(), match=\"Shooting\")[0]\n"
     ]
    },
    {
     "name": "stdout",
     "output_type": "stream",
     "text": [
      "Successfully scraped 38 matches\n",
      "\n",
      "Processing Brighton and Hove Albion...\n"
     ]
    },
    {
     "name": "stderr",
     "output_type": "stream",
     "text": [
      "C:\\Users\\hp\\AppData\\Local\\Temp\\ipykernel_14672\\1803160789.py:31: FutureWarning: Passing literal html to 'read_html' is deprecated and will be removed in a future version. To read from a literal string, wrap it in a 'StringIO' object.\n",
      "  matches = pd.read_html(team_soup.prettify(), match=\"Scores & Fixtures\")[0]\n",
      "C:\\Users\\hp\\AppData\\Local\\Temp\\ipykernel_14672\\1803160789.py:40: FutureWarning: Passing literal html to 'read_html' is deprecated and will be removed in a future version. To read from a literal string, wrap it in a 'StringIO' object.\n",
      "  shooting = pd.read_html(shooting_soup.prettify(), match=\"Shooting\")[0]\n"
     ]
    },
    {
     "name": "stdout",
     "output_type": "stream",
     "text": [
      "Successfully scraped 38 matches\n",
      "\n",
      "Processing Bournemouth...\n"
     ]
    },
    {
     "name": "stderr",
     "output_type": "stream",
     "text": [
      "C:\\Users\\hp\\AppData\\Local\\Temp\\ipykernel_14672\\1803160789.py:31: FutureWarning: Passing literal html to 'read_html' is deprecated and will be removed in a future version. To read from a literal string, wrap it in a 'StringIO' object.\n",
      "  matches = pd.read_html(team_soup.prettify(), match=\"Scores & Fixtures\")[0]\n",
      "C:\\Users\\hp\\AppData\\Local\\Temp\\ipykernel_14672\\1803160789.py:40: FutureWarning: Passing literal html to 'read_html' is deprecated and will be removed in a future version. To read from a literal string, wrap it in a 'StringIO' object.\n",
      "  shooting = pd.read_html(shooting_soup.prettify(), match=\"Shooting\")[0]\n"
     ]
    },
    {
     "name": "stdout",
     "output_type": "stream",
     "text": [
      "Error processing https://fbref.com/en/squads/4ba7cbea/Bournemouth-Stats: Document is empty\n",
      "\n",
      "Processing Brentford...\n"
     ]
    },
    {
     "name": "stderr",
     "output_type": "stream",
     "text": [
      "C:\\Users\\hp\\AppData\\Local\\Temp\\ipykernel_14672\\1803160789.py:31: FutureWarning: Passing literal html to 'read_html' is deprecated and will be removed in a future version. To read from a literal string, wrap it in a 'StringIO' object.\n",
      "  matches = pd.read_html(team_soup.prettify(), match=\"Scores & Fixtures\")[0]\n",
      "C:\\Users\\hp\\AppData\\Local\\Temp\\ipykernel_14672\\1803160789.py:40: FutureWarning: Passing literal html to 'read_html' is deprecated and will be removed in a future version. To read from a literal string, wrap it in a 'StringIO' object.\n",
      "  shooting = pd.read_html(shooting_soup.prettify(), match=\"Shooting\")[0]\n"
     ]
    },
    {
     "name": "stdout",
     "output_type": "stream",
     "text": [
      "Successfully scraped 38 matches\n",
      "\n",
      "Processing Fulham...\n"
     ]
    },
    {
     "name": "stderr",
     "output_type": "stream",
     "text": [
      "C:\\Users\\hp\\AppData\\Local\\Temp\\ipykernel_14672\\1803160789.py:31: FutureWarning: Passing literal html to 'read_html' is deprecated and will be removed in a future version. To read from a literal string, wrap it in a 'StringIO' object.\n",
      "  matches = pd.read_html(team_soup.prettify(), match=\"Scores & Fixtures\")[0]\n",
      "C:\\Users\\hp\\AppData\\Local\\Temp\\ipykernel_14672\\1803160789.py:40: FutureWarning: Passing literal html to 'read_html' is deprecated and will be removed in a future version. To read from a literal string, wrap it in a 'StringIO' object.\n",
      "  shooting = pd.read_html(shooting_soup.prettify(), match=\"Shooting\")[0]\n"
     ]
    },
    {
     "name": "stdout",
     "output_type": "stream",
     "text": [
      "Successfully scraped 38 matches\n",
      "\n",
      "Processing Crystal Palace...\n"
     ]
    },
    {
     "name": "stderr",
     "output_type": "stream",
     "text": [
      "C:\\Users\\hp\\AppData\\Local\\Temp\\ipykernel_14672\\1803160789.py:31: FutureWarning: Passing literal html to 'read_html' is deprecated and will be removed in a future version. To read from a literal string, wrap it in a 'StringIO' object.\n",
      "  matches = pd.read_html(team_soup.prettify(), match=\"Scores & Fixtures\")[0]\n",
      "C:\\Users\\hp\\AppData\\Local\\Temp\\ipykernel_14672\\1803160789.py:40: FutureWarning: Passing literal html to 'read_html' is deprecated and will be removed in a future version. To read from a literal string, wrap it in a 'StringIO' object.\n",
      "  shooting = pd.read_html(shooting_soup.prettify(), match=\"Shooting\")[0]\n"
     ]
    },
    {
     "name": "stdout",
     "output_type": "stream",
     "text": [
      "Successfully scraped 38 matches\n",
      "\n",
      "Processing Everton...\n"
     ]
    },
    {
     "name": "stderr",
     "output_type": "stream",
     "text": [
      "C:\\Users\\hp\\AppData\\Local\\Temp\\ipykernel_14672\\1803160789.py:31: FutureWarning: Passing literal html to 'read_html' is deprecated and will be removed in a future version. To read from a literal string, wrap it in a 'StringIO' object.\n",
      "  matches = pd.read_html(team_soup.prettify(), match=\"Scores & Fixtures\")[0]\n",
      "C:\\Users\\hp\\AppData\\Local\\Temp\\ipykernel_14672\\1803160789.py:40: FutureWarning: Passing literal html to 'read_html' is deprecated and will be removed in a future version. To read from a literal string, wrap it in a 'StringIO' object.\n",
      "  shooting = pd.read_html(shooting_soup.prettify(), match=\"Shooting\")[0]\n"
     ]
    },
    {
     "name": "stdout",
     "output_type": "stream",
     "text": [
      "Successfully scraped 38 matches\n",
      "\n",
      "Processing West Ham United...\n"
     ]
    },
    {
     "name": "stderr",
     "output_type": "stream",
     "text": [
      "C:\\Users\\hp\\AppData\\Local\\Temp\\ipykernel_14672\\1803160789.py:31: FutureWarning: Passing literal html to 'read_html' is deprecated and will be removed in a future version. To read from a literal string, wrap it in a 'StringIO' object.\n",
      "  matches = pd.read_html(team_soup.prettify(), match=\"Scores & Fixtures\")[0]\n",
      "C:\\Users\\hp\\AppData\\Local\\Temp\\ipykernel_14672\\1803160789.py:40: FutureWarning: Passing literal html to 'read_html' is deprecated and will be removed in a future version. To read from a literal string, wrap it in a 'StringIO' object.\n",
      "  shooting = pd.read_html(shooting_soup.prettify(), match=\"Shooting\")[0]\n"
     ]
    },
    {
     "name": "stdout",
     "output_type": "stream",
     "text": [
      "Successfully scraped 38 matches\n",
      "\n",
      "Processing Manchester United...\n"
     ]
    },
    {
     "name": "stderr",
     "output_type": "stream",
     "text": [
      "C:\\Users\\hp\\AppData\\Local\\Temp\\ipykernel_14672\\1803160789.py:31: FutureWarning: Passing literal html to 'read_html' is deprecated and will be removed in a future version. To read from a literal string, wrap it in a 'StringIO' object.\n",
      "  matches = pd.read_html(team_soup.prettify(), match=\"Scores & Fixtures\")[0]\n",
      "C:\\Users\\hp\\AppData\\Local\\Temp\\ipykernel_14672\\1803160789.py:40: FutureWarning: Passing literal html to 'read_html' is deprecated and will be removed in a future version. To read from a literal string, wrap it in a 'StringIO' object.\n",
      "  shooting = pd.read_html(shooting_soup.prettify(), match=\"Shooting\")[0]\n"
     ]
    },
    {
     "name": "stdout",
     "output_type": "stream",
     "text": [
      "Successfully scraped 38 matches\n",
      "\n",
      "Processing Wolverhampton Wanderers...\n"
     ]
    },
    {
     "name": "stderr",
     "output_type": "stream",
     "text": [
      "C:\\Users\\hp\\AppData\\Local\\Temp\\ipykernel_14672\\1803160789.py:31: FutureWarning: Passing literal html to 'read_html' is deprecated and will be removed in a future version. To read from a literal string, wrap it in a 'StringIO' object.\n",
      "  matches = pd.read_html(team_soup.prettify(), match=\"Scores & Fixtures\")[0]\n",
      "C:\\Users\\hp\\AppData\\Local\\Temp\\ipykernel_14672\\1803160789.py:40: FutureWarning: Passing literal html to 'read_html' is deprecated and will be removed in a future version. To read from a literal string, wrap it in a 'StringIO' object.\n",
      "  shooting = pd.read_html(shooting_soup.prettify(), match=\"Shooting\")[0]\n"
     ]
    },
    {
     "name": "stdout",
     "output_type": "stream",
     "text": [
      "Successfully scraped 38 matches\n",
      "\n",
      "Processing Tottenham Hotspur...\n"
     ]
    },
    {
     "name": "stderr",
     "output_type": "stream",
     "text": [
      "C:\\Users\\hp\\AppData\\Local\\Temp\\ipykernel_14672\\1803160789.py:31: FutureWarning: Passing literal html to 'read_html' is deprecated and will be removed in a future version. To read from a literal string, wrap it in a 'StringIO' object.\n",
      "  matches = pd.read_html(team_soup.prettify(), match=\"Scores & Fixtures\")[0]\n",
      "C:\\Users\\hp\\AppData\\Local\\Temp\\ipykernel_14672\\1803160789.py:40: FutureWarning: Passing literal html to 'read_html' is deprecated and will be removed in a future version. To read from a literal string, wrap it in a 'StringIO' object.\n",
      "  shooting = pd.read_html(shooting_soup.prettify(), match=\"Shooting\")[0]\n"
     ]
    },
    {
     "name": "stdout",
     "output_type": "stream",
     "text": [
      "Successfully scraped 38 matches\n",
      "\n",
      "Processing Leicester City...\n"
     ]
    },
    {
     "name": "stderr",
     "output_type": "stream",
     "text": [
      "C:\\Users\\hp\\AppData\\Local\\Temp\\ipykernel_14672\\1803160789.py:31: FutureWarning: Passing literal html to 'read_html' is deprecated and will be removed in a future version. To read from a literal string, wrap it in a 'StringIO' object.\n",
      "  matches = pd.read_html(team_soup.prettify(), match=\"Scores & Fixtures\")[0]\n",
      "C:\\Users\\hp\\AppData\\Local\\Temp\\ipykernel_14672\\1803160789.py:40: FutureWarning: Passing literal html to 'read_html' is deprecated and will be removed in a future version. To read from a literal string, wrap it in a 'StringIO' object.\n",
      "  shooting = pd.read_html(shooting_soup.prettify(), match=\"Shooting\")[0]\n"
     ]
    },
    {
     "name": "stdout",
     "output_type": "stream",
     "text": [
      "Error processing https://fbref.com/en/squads/a2d435b3/Leicester-City-Stats: Document is empty\n",
      "\n",
      "Processing Ipswich Town...\n"
     ]
    },
    {
     "name": "stderr",
     "output_type": "stream",
     "text": [
      "C:\\Users\\hp\\AppData\\Local\\Temp\\ipykernel_14672\\1803160789.py:31: FutureWarning: Passing literal html to 'read_html' is deprecated and will be removed in a future version. To read from a literal string, wrap it in a 'StringIO' object.\n",
      "  matches = pd.read_html(team_soup.prettify(), match=\"Scores & Fixtures\")[0]\n",
      "C:\\Users\\hp\\AppData\\Local\\Temp\\ipykernel_14672\\1803160789.py:40: FutureWarning: Passing literal html to 'read_html' is deprecated and will be removed in a future version. To read from a literal string, wrap it in a 'StringIO' object.\n",
      "  shooting = pd.read_html(shooting_soup.prettify(), match=\"Shooting\")[0]\n"
     ]
    },
    {
     "name": "stdout",
     "output_type": "stream",
     "text": [
      "Successfully scraped 38 matches\n",
      "\n",
      "Processing Southampton...\n"
     ]
    },
    {
     "name": "stderr",
     "output_type": "stream",
     "text": [
      "C:\\Users\\hp\\AppData\\Local\\Temp\\ipykernel_14672\\1803160789.py:31: FutureWarning: Passing literal html to 'read_html' is deprecated and will be removed in a future version. To read from a literal string, wrap it in a 'StringIO' object.\n",
      "  matches = pd.read_html(team_soup.prettify(), match=\"Scores & Fixtures\")[0]\n",
      "C:\\Users\\hp\\AppData\\Local\\Temp\\ipykernel_14672\\1803160789.py:40: FutureWarning: Passing literal html to 'read_html' is deprecated and will be removed in a future version. To read from a literal string, wrap it in a 'StringIO' object.\n",
      "  shooting = pd.read_html(shooting_soup.prettify(), match=\"Shooting\")[0]\n"
     ]
    },
    {
     "name": "stdout",
     "output_type": "stream",
     "text": [
      "Successfully scraped 38 matches\n",
      "\n",
      "Scraping 2021 season...\n",
      "\n",
      "Processing Manchester City...\n"
     ]
    },
    {
     "name": "stderr",
     "output_type": "stream",
     "text": [
      "C:\\Users\\hp\\AppData\\Local\\Temp\\ipykernel_14672\\1803160789.py:31: FutureWarning: Passing literal html to 'read_html' is deprecated and will be removed in a future version. To read from a literal string, wrap it in a 'StringIO' object.\n",
      "  matches = pd.read_html(team_soup.prettify(), match=\"Scores & Fixtures\")[0]\n",
      "C:\\Users\\hp\\AppData\\Local\\Temp\\ipykernel_14672\\1803160789.py:40: FutureWarning: Passing literal html to 'read_html' is deprecated and will be removed in a future version. To read from a literal string, wrap it in a 'StringIO' object.\n",
      "  shooting = pd.read_html(shooting_soup.prettify(), match=\"Shooting\")[0]\n"
     ]
    },
    {
     "name": "stdout",
     "output_type": "stream",
     "text": [
      "Successfully scraped 38 matches\n",
      "\n",
      "Processing Arsenal...\n"
     ]
    },
    {
     "name": "stderr",
     "output_type": "stream",
     "text": [
      "C:\\Users\\hp\\AppData\\Local\\Temp\\ipykernel_14672\\1803160789.py:31: FutureWarning: Passing literal html to 'read_html' is deprecated and will be removed in a future version. To read from a literal string, wrap it in a 'StringIO' object.\n",
      "  matches = pd.read_html(team_soup.prettify(), match=\"Scores & Fixtures\")[0]\n",
      "C:\\Users\\hp\\AppData\\Local\\Temp\\ipykernel_14672\\1803160789.py:40: FutureWarning: Passing literal html to 'read_html' is deprecated and will be removed in a future version. To read from a literal string, wrap it in a 'StringIO' object.\n",
      "  shooting = pd.read_html(shooting_soup.prettify(), match=\"Shooting\")[0]\n"
     ]
    },
    {
     "name": "stdout",
     "output_type": "stream",
     "text": [
      "Successfully scraped 38 matches\n",
      "\n",
      "Processing Liverpool...\n"
     ]
    },
    {
     "name": "stderr",
     "output_type": "stream",
     "text": [
      "C:\\Users\\hp\\AppData\\Local\\Temp\\ipykernel_14672\\1803160789.py:31: FutureWarning: Passing literal html to 'read_html' is deprecated and will be removed in a future version. To read from a literal string, wrap it in a 'StringIO' object.\n",
      "  matches = pd.read_html(team_soup.prettify(), match=\"Scores & Fixtures\")[0]\n",
      "C:\\Users\\hp\\AppData\\Local\\Temp\\ipykernel_14672\\1803160789.py:40: FutureWarning: Passing literal html to 'read_html' is deprecated and will be removed in a future version. To read from a literal string, wrap it in a 'StringIO' object.\n",
      "  shooting = pd.read_html(shooting_soup.prettify(), match=\"Shooting\")[0]\n"
     ]
    },
    {
     "name": "stdout",
     "output_type": "stream",
     "text": [
      "Successfully scraped 38 matches\n",
      "\n",
      "Processing Aston Villa...\n"
     ]
    },
    {
     "name": "stderr",
     "output_type": "stream",
     "text": [
      "C:\\Users\\hp\\AppData\\Local\\Temp\\ipykernel_14672\\1803160789.py:31: FutureWarning: Passing literal html to 'read_html' is deprecated and will be removed in a future version. To read from a literal string, wrap it in a 'StringIO' object.\n",
      "  matches = pd.read_html(team_soup.prettify(), match=\"Scores & Fixtures\")[0]\n",
      "C:\\Users\\hp\\AppData\\Local\\Temp\\ipykernel_14672\\1803160789.py:40: FutureWarning: Passing literal html to 'read_html' is deprecated and will be removed in a future version. To read from a literal string, wrap it in a 'StringIO' object.\n",
      "  shooting = pd.read_html(shooting_soup.prettify(), match=\"Shooting\")[0]\n"
     ]
    },
    {
     "name": "stdout",
     "output_type": "stream",
     "text": [
      "Successfully scraped 38 matches\n",
      "\n",
      "Processing Tottenham Hotspur...\n"
     ]
    },
    {
     "name": "stderr",
     "output_type": "stream",
     "text": [
      "C:\\Users\\hp\\AppData\\Local\\Temp\\ipykernel_14672\\1803160789.py:31: FutureWarning: Passing literal html to 'read_html' is deprecated and will be removed in a future version. To read from a literal string, wrap it in a 'StringIO' object.\n",
      "  matches = pd.read_html(team_soup.prettify(), match=\"Scores & Fixtures\")[0]\n",
      "C:\\Users\\hp\\AppData\\Local\\Temp\\ipykernel_14672\\1803160789.py:40: FutureWarning: Passing literal html to 'read_html' is deprecated and will be removed in a future version. To read from a literal string, wrap it in a 'StringIO' object.\n",
      "  shooting = pd.read_html(shooting_soup.prettify(), match=\"Shooting\")[0]\n"
     ]
    },
    {
     "name": "stdout",
     "output_type": "stream",
     "text": [
      "Successfully scraped 38 matches\n",
      "\n",
      "Processing Chelsea...\n"
     ]
    },
    {
     "name": "stderr",
     "output_type": "stream",
     "text": [
      "C:\\Users\\hp\\AppData\\Local\\Temp\\ipykernel_14672\\1803160789.py:31: FutureWarning: Passing literal html to 'read_html' is deprecated and will be removed in a future version. To read from a literal string, wrap it in a 'StringIO' object.\n",
      "  matches = pd.read_html(team_soup.prettify(), match=\"Scores & Fixtures\")[0]\n",
      "C:\\Users\\hp\\AppData\\Local\\Temp\\ipykernel_14672\\1803160789.py:40: FutureWarning: Passing literal html to 'read_html' is deprecated and will be removed in a future version. To read from a literal string, wrap it in a 'StringIO' object.\n",
      "  shooting = pd.read_html(shooting_soup.prettify(), match=\"Shooting\")[0]\n"
     ]
    },
    {
     "name": "stdout",
     "output_type": "stream",
     "text": [
      "Successfully scraped 38 matches\n",
      "\n",
      "Processing Newcastle United...\n"
     ]
    },
    {
     "name": "stderr",
     "output_type": "stream",
     "text": [
      "C:\\Users\\hp\\AppData\\Local\\Temp\\ipykernel_14672\\1803160789.py:31: FutureWarning: Passing literal html to 'read_html' is deprecated and will be removed in a future version. To read from a literal string, wrap it in a 'StringIO' object.\n",
      "  matches = pd.read_html(team_soup.prettify(), match=\"Scores & Fixtures\")[0]\n",
      "C:\\Users\\hp\\AppData\\Local\\Temp\\ipykernel_14672\\1803160789.py:40: FutureWarning: Passing literal html to 'read_html' is deprecated and will be removed in a future version. To read from a literal string, wrap it in a 'StringIO' object.\n",
      "  shooting = pd.read_html(shooting_soup.prettify(), match=\"Shooting\")[0]\n"
     ]
    },
    {
     "name": "stdout",
     "output_type": "stream",
     "text": [
      "Successfully scraped 38 matches\n",
      "\n",
      "Processing Manchester United...\n"
     ]
    },
    {
     "name": "stderr",
     "output_type": "stream",
     "text": [
      "C:\\Users\\hp\\AppData\\Local\\Temp\\ipykernel_14672\\1803160789.py:31: FutureWarning: Passing literal html to 'read_html' is deprecated and will be removed in a future version. To read from a literal string, wrap it in a 'StringIO' object.\n",
      "  matches = pd.read_html(team_soup.prettify(), match=\"Scores & Fixtures\")[0]\n",
      "C:\\Users\\hp\\AppData\\Local\\Temp\\ipykernel_14672\\1803160789.py:40: FutureWarning: Passing literal html to 'read_html' is deprecated and will be removed in a future version. To read from a literal string, wrap it in a 'StringIO' object.\n",
      "  shooting = pd.read_html(shooting_soup.prettify(), match=\"Shooting\")[0]\n"
     ]
    },
    {
     "name": "stdout",
     "output_type": "stream",
     "text": [
      "Successfully scraped 38 matches\n",
      "\n",
      "Processing West Ham United...\n"
     ]
    },
    {
     "name": "stderr",
     "output_type": "stream",
     "text": [
      "C:\\Users\\hp\\AppData\\Local\\Temp\\ipykernel_14672\\1803160789.py:31: FutureWarning: Passing literal html to 'read_html' is deprecated and will be removed in a future version. To read from a literal string, wrap it in a 'StringIO' object.\n",
      "  matches = pd.read_html(team_soup.prettify(), match=\"Scores & Fixtures\")[0]\n",
      "C:\\Users\\hp\\AppData\\Local\\Temp\\ipykernel_14672\\1803160789.py:40: FutureWarning: Passing literal html to 'read_html' is deprecated and will be removed in a future version. To read from a literal string, wrap it in a 'StringIO' object.\n",
      "  shooting = pd.read_html(shooting_soup.prettify(), match=\"Shooting\")[0]\n"
     ]
    },
    {
     "name": "stdout",
     "output_type": "stream",
     "text": [
      "Successfully scraped 38 matches\n",
      "\n",
      "Processing Crystal Palace...\n"
     ]
    },
    {
     "name": "stderr",
     "output_type": "stream",
     "text": [
      "C:\\Users\\hp\\AppData\\Local\\Temp\\ipykernel_14672\\1803160789.py:31: FutureWarning: Passing literal html to 'read_html' is deprecated and will be removed in a future version. To read from a literal string, wrap it in a 'StringIO' object.\n",
      "  matches = pd.read_html(team_soup.prettify(), match=\"Scores & Fixtures\")[0]\n",
      "C:\\Users\\hp\\AppData\\Local\\Temp\\ipykernel_14672\\1803160789.py:40: FutureWarning: Passing literal html to 'read_html' is deprecated and will be removed in a future version. To read from a literal string, wrap it in a 'StringIO' object.\n",
      "  shooting = pd.read_html(shooting_soup.prettify(), match=\"Shooting\")[0]\n"
     ]
    },
    {
     "name": "stdout",
     "output_type": "stream",
     "text": [
      "Successfully scraped 38 matches\n",
      "\n",
      "Processing Brighton and Hove Albion...\n"
     ]
    },
    {
     "name": "stderr",
     "output_type": "stream",
     "text": [
      "C:\\Users\\hp\\AppData\\Local\\Temp\\ipykernel_14672\\1803160789.py:31: FutureWarning: Passing literal html to 'read_html' is deprecated and will be removed in a future version. To read from a literal string, wrap it in a 'StringIO' object.\n",
      "  matches = pd.read_html(team_soup.prettify(), match=\"Scores & Fixtures\")[0]\n",
      "C:\\Users\\hp\\AppData\\Local\\Temp\\ipykernel_14672\\1803160789.py:40: FutureWarning: Passing literal html to 'read_html' is deprecated and will be removed in a future version. To read from a literal string, wrap it in a 'StringIO' object.\n",
      "  shooting = pd.read_html(shooting_soup.prettify(), match=\"Shooting\")[0]\n"
     ]
    },
    {
     "name": "stdout",
     "output_type": "stream",
     "text": [
      "Successfully scraped 38 matches\n",
      "\n",
      "Processing Bournemouth...\n"
     ]
    },
    {
     "name": "stderr",
     "output_type": "stream",
     "text": [
      "C:\\Users\\hp\\AppData\\Local\\Temp\\ipykernel_14672\\1803160789.py:31: FutureWarning: Passing literal html to 'read_html' is deprecated and will be removed in a future version. To read from a literal string, wrap it in a 'StringIO' object.\n",
      "  matches = pd.read_html(team_soup.prettify(), match=\"Scores & Fixtures\")[0]\n",
      "C:\\Users\\hp\\AppData\\Local\\Temp\\ipykernel_14672\\1803160789.py:40: FutureWarning: Passing literal html to 'read_html' is deprecated and will be removed in a future version. To read from a literal string, wrap it in a 'StringIO' object.\n",
      "  shooting = pd.read_html(shooting_soup.prettify(), match=\"Shooting\")[0]\n"
     ]
    },
    {
     "name": "stdout",
     "output_type": "stream",
     "text": [
      "Successfully scraped 38 matches\n",
      "\n",
      "Processing Fulham...\n"
     ]
    },
    {
     "name": "stderr",
     "output_type": "stream",
     "text": [
      "C:\\Users\\hp\\AppData\\Local\\Temp\\ipykernel_14672\\1803160789.py:31: FutureWarning: Passing literal html to 'read_html' is deprecated and will be removed in a future version. To read from a literal string, wrap it in a 'StringIO' object.\n",
      "  matches = pd.read_html(team_soup.prettify(), match=\"Scores & Fixtures\")[0]\n",
      "C:\\Users\\hp\\AppData\\Local\\Temp\\ipykernel_14672\\1803160789.py:40: FutureWarning: Passing literal html to 'read_html' is deprecated and will be removed in a future version. To read from a literal string, wrap it in a 'StringIO' object.\n",
      "  shooting = pd.read_html(shooting_soup.prettify(), match=\"Shooting\")[0]\n"
     ]
    },
    {
     "name": "stdout",
     "output_type": "stream",
     "text": [
      "Successfully scraped 38 matches\n",
      "\n",
      "Processing Wolverhampton Wanderers...\n"
     ]
    },
    {
     "name": "stderr",
     "output_type": "stream",
     "text": [
      "C:\\Users\\hp\\AppData\\Local\\Temp\\ipykernel_14672\\1803160789.py:31: FutureWarning: Passing literal html to 'read_html' is deprecated and will be removed in a future version. To read from a literal string, wrap it in a 'StringIO' object.\n",
      "  matches = pd.read_html(team_soup.prettify(), match=\"Scores & Fixtures\")[0]\n",
      "C:\\Users\\hp\\AppData\\Local\\Temp\\ipykernel_14672\\1803160789.py:40: FutureWarning: Passing literal html to 'read_html' is deprecated and will be removed in a future version. To read from a literal string, wrap it in a 'StringIO' object.\n",
      "  shooting = pd.read_html(shooting_soup.prettify(), match=\"Shooting\")[0]\n"
     ]
    },
    {
     "name": "stdout",
     "output_type": "stream",
     "text": [
      "Successfully scraped 38 matches\n",
      "\n",
      "Processing Everton...\n"
     ]
    },
    {
     "name": "stderr",
     "output_type": "stream",
     "text": [
      "C:\\Users\\hp\\AppData\\Local\\Temp\\ipykernel_14672\\1803160789.py:31: FutureWarning: Passing literal html to 'read_html' is deprecated and will be removed in a future version. To read from a literal string, wrap it in a 'StringIO' object.\n",
      "  matches = pd.read_html(team_soup.prettify(), match=\"Scores & Fixtures\")[0]\n",
      "C:\\Users\\hp\\AppData\\Local\\Temp\\ipykernel_14672\\1803160789.py:40: FutureWarning: Passing literal html to 'read_html' is deprecated and will be removed in a future version. To read from a literal string, wrap it in a 'StringIO' object.\n",
      "  shooting = pd.read_html(shooting_soup.prettify(), match=\"Shooting\")[0]\n"
     ]
    },
    {
     "name": "stdout",
     "output_type": "stream",
     "text": [
      "Successfully scraped 38 matches\n",
      "\n",
      "Processing Brentford...\n"
     ]
    },
    {
     "name": "stderr",
     "output_type": "stream",
     "text": [
      "C:\\Users\\hp\\AppData\\Local\\Temp\\ipykernel_14672\\1803160789.py:31: FutureWarning: Passing literal html to 'read_html' is deprecated and will be removed in a future version. To read from a literal string, wrap it in a 'StringIO' object.\n",
      "  matches = pd.read_html(team_soup.prettify(), match=\"Scores & Fixtures\")[0]\n",
      "C:\\Users\\hp\\AppData\\Local\\Temp\\ipykernel_14672\\1803160789.py:40: FutureWarning: Passing literal html to 'read_html' is deprecated and will be removed in a future version. To read from a literal string, wrap it in a 'StringIO' object.\n",
      "  shooting = pd.read_html(shooting_soup.prettify(), match=\"Shooting\")[0]\n"
     ]
    },
    {
     "name": "stdout",
     "output_type": "stream",
     "text": [
      "Successfully scraped 38 matches\n",
      "\n",
      "Processing Nottingham Forest...\n"
     ]
    },
    {
     "name": "stderr",
     "output_type": "stream",
     "text": [
      "C:\\Users\\hp\\AppData\\Local\\Temp\\ipykernel_14672\\1803160789.py:31: FutureWarning: Passing literal html to 'read_html' is deprecated and will be removed in a future version. To read from a literal string, wrap it in a 'StringIO' object.\n",
      "  matches = pd.read_html(team_soup.prettify(), match=\"Scores & Fixtures\")[0]\n",
      "C:\\Users\\hp\\AppData\\Local\\Temp\\ipykernel_14672\\1803160789.py:40: FutureWarning: Passing literal html to 'read_html' is deprecated and will be removed in a future version. To read from a literal string, wrap it in a 'StringIO' object.\n",
      "  shooting = pd.read_html(shooting_soup.prettify(), match=\"Shooting\")[0]\n"
     ]
    },
    {
     "name": "stdout",
     "output_type": "stream",
     "text": [
      "Successfully scraped 38 matches\n",
      "\n",
      "Processing Luton Town...\n"
     ]
    },
    {
     "name": "stderr",
     "output_type": "stream",
     "text": [
      "C:\\Users\\hp\\AppData\\Local\\Temp\\ipykernel_14672\\1803160789.py:31: FutureWarning: Passing literal html to 'read_html' is deprecated and will be removed in a future version. To read from a literal string, wrap it in a 'StringIO' object.\n",
      "  matches = pd.read_html(team_soup.prettify(), match=\"Scores & Fixtures\")[0]\n",
      "C:\\Users\\hp\\AppData\\Local\\Temp\\ipykernel_14672\\1803160789.py:40: FutureWarning: Passing literal html to 'read_html' is deprecated and will be removed in a future version. To read from a literal string, wrap it in a 'StringIO' object.\n",
      "  shooting = pd.read_html(shooting_soup.prettify(), match=\"Shooting\")[0]\n"
     ]
    },
    {
     "name": "stdout",
     "output_type": "stream",
     "text": [
      "Successfully scraped 38 matches\n",
      "\n",
      "Processing Burnley...\n"
     ]
    },
    {
     "name": "stderr",
     "output_type": "stream",
     "text": [
      "C:\\Users\\hp\\AppData\\Local\\Temp\\ipykernel_14672\\1803160789.py:31: FutureWarning: Passing literal html to 'read_html' is deprecated and will be removed in a future version. To read from a literal string, wrap it in a 'StringIO' object.\n",
      "  matches = pd.read_html(team_soup.prettify(), match=\"Scores & Fixtures\")[0]\n",
      "C:\\Users\\hp\\AppData\\Local\\Temp\\ipykernel_14672\\1803160789.py:40: FutureWarning: Passing literal html to 'read_html' is deprecated and will be removed in a future version. To read from a literal string, wrap it in a 'StringIO' object.\n",
      "  shooting = pd.read_html(shooting_soup.prettify(), match=\"Shooting\")[0]\n"
     ]
    },
    {
     "name": "stdout",
     "output_type": "stream",
     "text": [
      "Successfully scraped 38 matches\n",
      "\n",
      "Processing Sheffield United...\n"
     ]
    },
    {
     "name": "stderr",
     "output_type": "stream",
     "text": [
      "C:\\Users\\hp\\AppData\\Local\\Temp\\ipykernel_14672\\1803160789.py:31: FutureWarning: Passing literal html to 'read_html' is deprecated and will be removed in a future version. To read from a literal string, wrap it in a 'StringIO' object.\n",
      "  matches = pd.read_html(team_soup.prettify(), match=\"Scores & Fixtures\")[0]\n",
      "C:\\Users\\hp\\AppData\\Local\\Temp\\ipykernel_14672\\1803160789.py:40: FutureWarning: Passing literal html to 'read_html' is deprecated and will be removed in a future version. To read from a literal string, wrap it in a 'StringIO' object.\n",
      "  shooting = pd.read_html(shooting_soup.prettify(), match=\"Shooting\")[0]\n"
     ]
    },
    {
     "name": "stdout",
     "output_type": "stream",
     "text": [
      "Successfully scraped 38 matches\n",
      "Data successfully saved to matches.csv\n"
     ]
    }
   ],
   "source": [
    "# Run the scraper\n",
    "match_df = scrape_premier_league_data(2022, 2020)\n",
    "if match_df is not None:\n",
    "    match_df.to_csv(\"test.csv\", index=False)\n",
    "    print(\"Data successfully saved to matches.csv\")"
   ]
  }
 ],
 "metadata": {
  "kernelspec": {
   "display_name": "Python 3",
   "language": "python",
   "name": "python3"
  },
  "language_info": {
   "codemirror_mode": {
    "name": "ipython",
    "version": 3
   },
   "file_extension": ".py",
   "mimetype": "text/x-python",
   "name": "python",
   "nbconvert_exporter": "python",
   "pygments_lexer": "ipython3",
   "version": "3.12.11"
  }
 },
 "nbformat": 4,
 "nbformat_minor": 5
}
